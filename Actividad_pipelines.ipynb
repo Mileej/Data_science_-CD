{
  "nbformat": 4,
  "nbformat_minor": 0,
  "metadata": {
    "colab": {
      "provenance": [],
      "mount_file_id": "1ttJuW__Wsj_br1W4KPhzMixhChY5ZGjY",
      "authorship_tag": "ABX9TyOz1vTj44aKcDrVNCIaFxE+",
      "include_colab_link": true
    },
    "kernelspec": {
      "name": "python3",
      "display_name": "Python 3"
    },
    "language_info": {
      "name": "python"
    }
  },
  "cells": [
    {
      "cell_type": "markdown",
      "metadata": {
        "id": "view-in-github",
        "colab_type": "text"
      },
      "source": [
        "<a href=\"https://colab.research.google.com/github/Mileej/Data_science_-CD/blob/main/Actividad_pipelines.ipynb\" target=\"_parent\"><img src=\"https://colab.research.google.com/assets/colab-badge.svg\" alt=\"Open In Colab\"/></a>"
      ]
    },
    {
      "cell_type": "code",
      "execution_count": 14,
      "metadata": {
        "id": "rCvS1j2a0PTG"
      },
      "outputs": [],
      "source": [
        "#importar librerias \n",
        "import pandas as pd\n",
        "import numpy as np\n",
        "from sklearn.preprocessing import StandardScaler, OneHotEncoder\n",
        "from sklearn.impute import SimpleImputer\n",
        "from sklearn.compose import make_column_transformer, make_column_selector\n",
        "from sklearn.pipeline import make_pipeline\n",
        "from sklearn.model_selection import train_test_split\n",
        "from sklearn import set_config\n",
        "set_config(display='diagram')"
      ]
    },
    {
      "cell_type": "code",
      "source": [
        "dt=pd.read_excel('/content/drive/MyDrive/Semestre 2022-2/CODING_DOJO_DS/Machine_Learning/Cereal with missing values.xlsx')\n",
        "dt"
      ],
      "metadata": {
        "colab": {
          "base_uri": "https://localhost:8080/",
          "height": 748
        },
        "id": "bYbfGZJI7gIs",
        "outputId": "65165264-d421-465e-bbad-5453affe66ab"
      },
      "execution_count": 15,
      "outputs": [
        {
          "output_type": "execute_result",
          "data": {
            "text/plain": [
              "                       name                 Manufacturer  type  \\\n",
              "0   Apple Cinnamon Cheerios                General Mills  Cold   \n",
              "1                   Basic 4                General Mills  Cold   \n",
              "2                  Cheerios                General Mills  Cold   \n",
              "3     Cinnamon Toast Crunch                General Mills  Cold   \n",
              "4                  Clusters                General Mills  Cold   \n",
              "..                      ...                          ...   ...   \n",
              "72                Rice Chex               Ralston Purina  Cold   \n",
              "73               Wheat Chex               Ralston Purina  Cold   \n",
              "74                    Maypo  American Home Food Products   Hot   \n",
              "75   Cream of Wheat (Quick)                      Nabisco   Hot   \n",
              "76           Quaker Oatmeal                  Quaker Oats   Hot   \n",
              "\n",
              "    calories per serving  grams of protein  grams of fat  \\\n",
              "0                  110.0               2.0           2.0   \n",
              "1                  130.0               3.0           2.0   \n",
              "2                    NaN               6.0           2.0   \n",
              "3                  120.0               1.0           3.0   \n",
              "4                  110.0               3.0           2.0   \n",
              "..                   ...               ...           ...   \n",
              "72                 110.0               1.0           NaN   \n",
              "73                 100.0               3.0           1.0   \n",
              "74                 100.0               4.0           1.0   \n",
              "75                 100.0               3.0           0.0   \n",
              "76                 100.0               5.0           2.0   \n",
              "\n",
              "    milligrams of sodium  grams of dietary fiber  \\\n",
              "0                  180.0                     1.5   \n",
              "1                    NaN                     2.0   \n",
              "2                  290.0                     2.0   \n",
              "3                  210.0                     0.0   \n",
              "4                  140.0                     2.0   \n",
              "..                   ...                     ...   \n",
              "72                 240.0                     0.0   \n",
              "73                 230.0                     3.0   \n",
              "74                   0.0                     0.0   \n",
              "75                  80.0                     1.0   \n",
              "76                   0.0                     2.7   \n",
              "\n",
              "    grams of complex carbohydrates  grams of sugars  milligrams of potassium  \\\n",
              "0                             10.5             10.0                     70.0   \n",
              "1                             18.0              NaN                    100.0   \n",
              "2                             17.0              1.0                    105.0   \n",
              "3                             13.0              9.0                     45.0   \n",
              "4                             13.0              7.0                    105.0   \n",
              "..                             ...              ...                      ...   \n",
              "72                            23.0              2.0                     30.0   \n",
              "73                            17.0              3.0                    115.0   \n",
              "74                            16.0              NaN                     95.0   \n",
              "75                            21.0              0.0                     -1.0   \n",
              "76                            -1.0             -1.0                    110.0   \n",
              "\n",
              "    vitamins and minerals (% of FDA recommendation)  Display shelf  \\\n",
              "0                                              25.0            1.0   \n",
              "1                                              25.0            3.0   \n",
              "2                                              25.0            1.0   \n",
              "3                                              25.0            2.0   \n",
              "4                                              25.0            3.0   \n",
              "..                                              ...            ...   \n",
              "72                                             25.0            1.0   \n",
              "73                                             25.0            1.0   \n",
              "74                                             25.0            2.0   \n",
              "75                                              0.0            2.0   \n",
              "76                                              0.0            1.0   \n",
              "\n",
              "    Weight in ounces per one serving  Number of cups in one serving  \\\n",
              "0                               1.00                           0.75   \n",
              "1                               1.33                           0.75   \n",
              "2                               1.00                           1.25   \n",
              "3                               1.00                           0.75   \n",
              "4                               1.00                           0.50   \n",
              "..                               ...                            ...   \n",
              "72                              1.00                           1.13   \n",
              "73                              1.00                           0.67   \n",
              "74                              1.00                           1.00   \n",
              "75                              1.00                           1.00   \n",
              "76                              1.00                           0.67   \n",
              "\n",
              "    Rating of cereal  \n",
              "0          29.509541  \n",
              "1          37.038562  \n",
              "2          50.764999  \n",
              "3          19.823573  \n",
              "4          40.400208  \n",
              "..               ...  \n",
              "72         41.998933  \n",
              "73         49.787445  \n",
              "74         54.850917  \n",
              "75         64.533816  \n",
              "76         50.828392  \n",
              "\n",
              "[77 rows x 16 columns]"
            ],
            "text/html": [
              "\n",
              "  <div id=\"df-61186c53-6771-4751-b20a-27269343e2a7\">\n",
              "    <div class=\"colab-df-container\">\n",
              "      <div>\n",
              "<style scoped>\n",
              "    .dataframe tbody tr th:only-of-type {\n",
              "        vertical-align: middle;\n",
              "    }\n",
              "\n",
              "    .dataframe tbody tr th {\n",
              "        vertical-align: top;\n",
              "    }\n",
              "\n",
              "    .dataframe thead th {\n",
              "        text-align: right;\n",
              "    }\n",
              "</style>\n",
              "<table border=\"1\" class=\"dataframe\">\n",
              "  <thead>\n",
              "    <tr style=\"text-align: right;\">\n",
              "      <th></th>\n",
              "      <th>name</th>\n",
              "      <th>Manufacturer</th>\n",
              "      <th>type</th>\n",
              "      <th>calories per serving</th>\n",
              "      <th>grams of protein</th>\n",
              "      <th>grams of fat</th>\n",
              "      <th>milligrams of sodium</th>\n",
              "      <th>grams of dietary fiber</th>\n",
              "      <th>grams of complex carbohydrates</th>\n",
              "      <th>grams of sugars</th>\n",
              "      <th>milligrams of potassium</th>\n",
              "      <th>vitamins and minerals (% of FDA recommendation)</th>\n",
              "      <th>Display shelf</th>\n",
              "      <th>Weight in ounces per one serving</th>\n",
              "      <th>Number of cups in one serving</th>\n",
              "      <th>Rating of cereal</th>\n",
              "    </tr>\n",
              "  </thead>\n",
              "  <tbody>\n",
              "    <tr>\n",
              "      <th>0</th>\n",
              "      <td>Apple Cinnamon Cheerios</td>\n",
              "      <td>General Mills</td>\n",
              "      <td>Cold</td>\n",
              "      <td>110.0</td>\n",
              "      <td>2.0</td>\n",
              "      <td>2.0</td>\n",
              "      <td>180.0</td>\n",
              "      <td>1.5</td>\n",
              "      <td>10.5</td>\n",
              "      <td>10.0</td>\n",
              "      <td>70.0</td>\n",
              "      <td>25.0</td>\n",
              "      <td>1.0</td>\n",
              "      <td>1.00</td>\n",
              "      <td>0.75</td>\n",
              "      <td>29.509541</td>\n",
              "    </tr>\n",
              "    <tr>\n",
              "      <th>1</th>\n",
              "      <td>Basic 4</td>\n",
              "      <td>General Mills</td>\n",
              "      <td>Cold</td>\n",
              "      <td>130.0</td>\n",
              "      <td>3.0</td>\n",
              "      <td>2.0</td>\n",
              "      <td>NaN</td>\n",
              "      <td>2.0</td>\n",
              "      <td>18.0</td>\n",
              "      <td>NaN</td>\n",
              "      <td>100.0</td>\n",
              "      <td>25.0</td>\n",
              "      <td>3.0</td>\n",
              "      <td>1.33</td>\n",
              "      <td>0.75</td>\n",
              "      <td>37.038562</td>\n",
              "    </tr>\n",
              "    <tr>\n",
              "      <th>2</th>\n",
              "      <td>Cheerios</td>\n",
              "      <td>General Mills</td>\n",
              "      <td>Cold</td>\n",
              "      <td>NaN</td>\n",
              "      <td>6.0</td>\n",
              "      <td>2.0</td>\n",
              "      <td>290.0</td>\n",
              "      <td>2.0</td>\n",
              "      <td>17.0</td>\n",
              "      <td>1.0</td>\n",
              "      <td>105.0</td>\n",
              "      <td>25.0</td>\n",
              "      <td>1.0</td>\n",
              "      <td>1.00</td>\n",
              "      <td>1.25</td>\n",
              "      <td>50.764999</td>\n",
              "    </tr>\n",
              "    <tr>\n",
              "      <th>3</th>\n",
              "      <td>Cinnamon Toast Crunch</td>\n",
              "      <td>General Mills</td>\n",
              "      <td>Cold</td>\n",
              "      <td>120.0</td>\n",
              "      <td>1.0</td>\n",
              "      <td>3.0</td>\n",
              "      <td>210.0</td>\n",
              "      <td>0.0</td>\n",
              "      <td>13.0</td>\n",
              "      <td>9.0</td>\n",
              "      <td>45.0</td>\n",
              "      <td>25.0</td>\n",
              "      <td>2.0</td>\n",
              "      <td>1.00</td>\n",
              "      <td>0.75</td>\n",
              "      <td>19.823573</td>\n",
              "    </tr>\n",
              "    <tr>\n",
              "      <th>4</th>\n",
              "      <td>Clusters</td>\n",
              "      <td>General Mills</td>\n",
              "      <td>Cold</td>\n",
              "      <td>110.0</td>\n",
              "      <td>3.0</td>\n",
              "      <td>2.0</td>\n",
              "      <td>140.0</td>\n",
              "      <td>2.0</td>\n",
              "      <td>13.0</td>\n",
              "      <td>7.0</td>\n",
              "      <td>105.0</td>\n",
              "      <td>25.0</td>\n",
              "      <td>3.0</td>\n",
              "      <td>1.00</td>\n",
              "      <td>0.50</td>\n",
              "      <td>40.400208</td>\n",
              "    </tr>\n",
              "    <tr>\n",
              "      <th>...</th>\n",
              "      <td>...</td>\n",
              "      <td>...</td>\n",
              "      <td>...</td>\n",
              "      <td>...</td>\n",
              "      <td>...</td>\n",
              "      <td>...</td>\n",
              "      <td>...</td>\n",
              "      <td>...</td>\n",
              "      <td>...</td>\n",
              "      <td>...</td>\n",
              "      <td>...</td>\n",
              "      <td>...</td>\n",
              "      <td>...</td>\n",
              "      <td>...</td>\n",
              "      <td>...</td>\n",
              "      <td>...</td>\n",
              "    </tr>\n",
              "    <tr>\n",
              "      <th>72</th>\n",
              "      <td>Rice Chex</td>\n",
              "      <td>Ralston Purina</td>\n",
              "      <td>Cold</td>\n",
              "      <td>110.0</td>\n",
              "      <td>1.0</td>\n",
              "      <td>NaN</td>\n",
              "      <td>240.0</td>\n",
              "      <td>0.0</td>\n",
              "      <td>23.0</td>\n",
              "      <td>2.0</td>\n",
              "      <td>30.0</td>\n",
              "      <td>25.0</td>\n",
              "      <td>1.0</td>\n",
              "      <td>1.00</td>\n",
              "      <td>1.13</td>\n",
              "      <td>41.998933</td>\n",
              "    </tr>\n",
              "    <tr>\n",
              "      <th>73</th>\n",
              "      <td>Wheat Chex</td>\n",
              "      <td>Ralston Purina</td>\n",
              "      <td>Cold</td>\n",
              "      <td>100.0</td>\n",
              "      <td>3.0</td>\n",
              "      <td>1.0</td>\n",
              "      <td>230.0</td>\n",
              "      <td>3.0</td>\n",
              "      <td>17.0</td>\n",
              "      <td>3.0</td>\n",
              "      <td>115.0</td>\n",
              "      <td>25.0</td>\n",
              "      <td>1.0</td>\n",
              "      <td>1.00</td>\n",
              "      <td>0.67</td>\n",
              "      <td>49.787445</td>\n",
              "    </tr>\n",
              "    <tr>\n",
              "      <th>74</th>\n",
              "      <td>Maypo</td>\n",
              "      <td>American Home Food Products</td>\n",
              "      <td>Hot</td>\n",
              "      <td>100.0</td>\n",
              "      <td>4.0</td>\n",
              "      <td>1.0</td>\n",
              "      <td>0.0</td>\n",
              "      <td>0.0</td>\n",
              "      <td>16.0</td>\n",
              "      <td>NaN</td>\n",
              "      <td>95.0</td>\n",
              "      <td>25.0</td>\n",
              "      <td>2.0</td>\n",
              "      <td>1.00</td>\n",
              "      <td>1.00</td>\n",
              "      <td>54.850917</td>\n",
              "    </tr>\n",
              "    <tr>\n",
              "      <th>75</th>\n",
              "      <td>Cream of Wheat (Quick)</td>\n",
              "      <td>Nabisco</td>\n",
              "      <td>Hot</td>\n",
              "      <td>100.0</td>\n",
              "      <td>3.0</td>\n",
              "      <td>0.0</td>\n",
              "      <td>80.0</td>\n",
              "      <td>1.0</td>\n",
              "      <td>21.0</td>\n",
              "      <td>0.0</td>\n",
              "      <td>-1.0</td>\n",
              "      <td>0.0</td>\n",
              "      <td>2.0</td>\n",
              "      <td>1.00</td>\n",
              "      <td>1.00</td>\n",
              "      <td>64.533816</td>\n",
              "    </tr>\n",
              "    <tr>\n",
              "      <th>76</th>\n",
              "      <td>Quaker Oatmeal</td>\n",
              "      <td>Quaker Oats</td>\n",
              "      <td>Hot</td>\n",
              "      <td>100.0</td>\n",
              "      <td>5.0</td>\n",
              "      <td>2.0</td>\n",
              "      <td>0.0</td>\n",
              "      <td>2.7</td>\n",
              "      <td>-1.0</td>\n",
              "      <td>-1.0</td>\n",
              "      <td>110.0</td>\n",
              "      <td>0.0</td>\n",
              "      <td>1.0</td>\n",
              "      <td>1.00</td>\n",
              "      <td>0.67</td>\n",
              "      <td>50.828392</td>\n",
              "    </tr>\n",
              "  </tbody>\n",
              "</table>\n",
              "<p>77 rows × 16 columns</p>\n",
              "</div>\n",
              "      <button class=\"colab-df-convert\" onclick=\"convertToInteractive('df-61186c53-6771-4751-b20a-27269343e2a7')\"\n",
              "              title=\"Convert this dataframe to an interactive table.\"\n",
              "              style=\"display:none;\">\n",
              "        \n",
              "  <svg xmlns=\"http://www.w3.org/2000/svg\" height=\"24px\"viewBox=\"0 0 24 24\"\n",
              "       width=\"24px\">\n",
              "    <path d=\"M0 0h24v24H0V0z\" fill=\"none\"/>\n",
              "    <path d=\"M18.56 5.44l.94 2.06.94-2.06 2.06-.94-2.06-.94-.94-2.06-.94 2.06-2.06.94zm-11 1L8.5 8.5l.94-2.06 2.06-.94-2.06-.94L8.5 2.5l-.94 2.06-2.06.94zm10 10l.94 2.06.94-2.06 2.06-.94-2.06-.94-.94-2.06-.94 2.06-2.06.94z\"/><path d=\"M17.41 7.96l-1.37-1.37c-.4-.4-.92-.59-1.43-.59-.52 0-1.04.2-1.43.59L10.3 9.45l-7.72 7.72c-.78.78-.78 2.05 0 2.83L4 21.41c.39.39.9.59 1.41.59.51 0 1.02-.2 1.41-.59l7.78-7.78 2.81-2.81c.8-.78.8-2.07 0-2.86zM5.41 20L4 18.59l7.72-7.72 1.47 1.35L5.41 20z\"/>\n",
              "  </svg>\n",
              "      </button>\n",
              "      \n",
              "  <style>\n",
              "    .colab-df-container {\n",
              "      display:flex;\n",
              "      flex-wrap:wrap;\n",
              "      gap: 12px;\n",
              "    }\n",
              "\n",
              "    .colab-df-convert {\n",
              "      background-color: #E8F0FE;\n",
              "      border: none;\n",
              "      border-radius: 50%;\n",
              "      cursor: pointer;\n",
              "      display: none;\n",
              "      fill: #1967D2;\n",
              "      height: 32px;\n",
              "      padding: 0 0 0 0;\n",
              "      width: 32px;\n",
              "    }\n",
              "\n",
              "    .colab-df-convert:hover {\n",
              "      background-color: #E2EBFA;\n",
              "      box-shadow: 0px 1px 2px rgba(60, 64, 67, 0.3), 0px 1px 3px 1px rgba(60, 64, 67, 0.15);\n",
              "      fill: #174EA6;\n",
              "    }\n",
              "\n",
              "    [theme=dark] .colab-df-convert {\n",
              "      background-color: #3B4455;\n",
              "      fill: #D2E3FC;\n",
              "    }\n",
              "\n",
              "    [theme=dark] .colab-df-convert:hover {\n",
              "      background-color: #434B5C;\n",
              "      box-shadow: 0px 1px 3px 1px rgba(0, 0, 0, 0.15);\n",
              "      filter: drop-shadow(0px 1px 2px rgba(0, 0, 0, 0.3));\n",
              "      fill: #FFFFFF;\n",
              "    }\n",
              "  </style>\n",
              "\n",
              "      <script>\n",
              "        const buttonEl =\n",
              "          document.querySelector('#df-61186c53-6771-4751-b20a-27269343e2a7 button.colab-df-convert');\n",
              "        buttonEl.style.display =\n",
              "          google.colab.kernel.accessAllowed ? 'block' : 'none';\n",
              "\n",
              "        async function convertToInteractive(key) {\n",
              "          const element = document.querySelector('#df-61186c53-6771-4751-b20a-27269343e2a7');\n",
              "          const dataTable =\n",
              "            await google.colab.kernel.invokeFunction('convertToInteractive',\n",
              "                                                     [key], {});\n",
              "          if (!dataTable) return;\n",
              "\n",
              "          const docLinkHtml = 'Like what you see? Visit the ' +\n",
              "            '<a target=\"_blank\" href=https://colab.research.google.com/notebooks/data_table.ipynb>data table notebook</a>'\n",
              "            + ' to learn more about interactive tables.';\n",
              "          element.innerHTML = '';\n",
              "          dataTable['output_type'] = 'display_data';\n",
              "          await google.colab.output.renderOutput(dataTable, element);\n",
              "          const docLink = document.createElement('div');\n",
              "          docLink.innerHTML = docLinkHtml;\n",
              "          element.appendChild(docLink);\n",
              "        }\n",
              "      </script>\n",
              "    </div>\n",
              "  </div>\n",
              "  "
            ]
          },
          "metadata": {},
          "execution_count": 15
        }
      ]
    },
    {
      "cell_type": "code",
      "source": [
        "dt.info()"
      ],
      "metadata": {
        "colab": {
          "base_uri": "https://localhost:8080/"
        },
        "id": "tu03acGq9GuF",
        "outputId": "d8d648b3-0b34-4eb8-a1f6-7f241db22ac6"
      },
      "execution_count": 16,
      "outputs": [
        {
          "output_type": "stream",
          "name": "stdout",
          "text": [
            "<class 'pandas.core.frame.DataFrame'>\n",
            "RangeIndex: 77 entries, 0 to 76\n",
            "Data columns (total 16 columns):\n",
            " #   Column                                           Non-Null Count  Dtype  \n",
            "---  ------                                           --------------  -----  \n",
            " 0   name                                             77 non-null     object \n",
            " 1   Manufacturer                                     77 non-null     object \n",
            " 2   type                                             68 non-null     object \n",
            " 3   calories per serving                             70 non-null     float64\n",
            " 4   grams of protein                                 77 non-null     float64\n",
            " 5   grams of fat                                     69 non-null     float64\n",
            " 6   milligrams of sodium                             76 non-null     float64\n",
            " 7   grams of dietary fiber                           77 non-null     float64\n",
            " 8   grams of complex carbohydrates                   77 non-null     float64\n",
            " 9   grams of sugars                                  68 non-null     float64\n",
            " 10  milligrams of potassium                          77 non-null     float64\n",
            " 11  vitamins and minerals (% of FDA recommendation)  76 non-null     float64\n",
            " 12  Display shelf                                    77 non-null     float64\n",
            " 13  Weight in ounces per one serving                 77 non-null     float64\n",
            " 14  Number of cups in one serving                    77 non-null     float64\n",
            " 15  Rating of cereal                                 77 non-null     float64\n",
            "dtypes: float64(13), object(3)\n",
            "memory usage: 9.8+ KB\n"
          ]
        }
      ]
    },
    {
      "cell_type": "code",
      "source": [
        "dt['type'].value_counts() # ordinal"
      ],
      "metadata": {
        "colab": {
          "base_uri": "https://localhost:8080/"
        },
        "id": "jo57g-VYBKAX",
        "outputId": "98587eef-e500-4ef0-9a2b-b2abd0896e60"
      },
      "execution_count": 17,
      "outputs": [
        {
          "output_type": "execute_result",
          "data": {
            "text/plain": [
              "Cold    65\n",
              "Hot      3\n",
              "Name: type, dtype: int64"
            ]
          },
          "metadata": {},
          "execution_count": 17
        }
      ]
    },
    {
      "cell_type": "markdown",
      "source": [
        "**¿Qué tan bien se pueden predecir las calorías basándose en el fabricante, tipo de cereal, gramos de grasa, gramos de azúcares y el peso en onzas por una porción del cereal? **"
      ],
      "metadata": {
        "id": "libd8dor89vV"
      }
    },
    {
      "cell_type": "code",
      "source": [
        "#Definir la característica (X) y objetivo (y).\n",
        "X=dt.drop('calories per serving', axis=1)\n",
        "y=dt['calories per serving']\n",
        "#Utilizar train test split en los datos para prepararlos para aprendizaje automático.\n",
        "X_train,X_test,y_train,y_test = train_test_split(X,y,random_state=42)"
      ],
      "metadata": {
        "id": "-VMuGXYp9Auq"
      },
      "execution_count": 18,
      "outputs": []
    },
    {
      "cell_type": "code",
      "source": [
        "#Identificar cada característica como numérica, ordinal o nominal. (Entreguen esta pregunta en una celda de texto en un cuaderno de Colab).\n",
        "cat_selector = make_column_selector(dtype_include='object')\n",
        "num_selector = make_column_selector(dtype_include='number')"
      ],
      "metadata": {
        "id": "1U1RXCKv-uPg"
      },
      "execution_count": 21,
      "outputs": []
    },
    {
      "cell_type": "code",
      "source": [
        "#Selección de las columnas númericas de cada tipo \n",
        "num_columns=num_selector(X_train)\n",
        "cat_columns=cat_selector(X_train)\n",
        "\n",
        "# observación\n",
        "print('columnas númericas',num_columns)\n",
        "print('columnas categoricas', cat_columns)"
      ],
      "metadata": {
        "colab": {
          "base_uri": "https://localhost:8080/"
        },
        "id": "qXGH33sTlx0p",
        "outputId": "c2805dff-3fd3-4849-f4bd-841fa5394d05"
      },
      "execution_count": 24,
      "outputs": [
        {
          "output_type": "stream",
          "name": "stdout",
          "text": [
            "columnas númericas ['grams of protein', 'grams of fat', 'milligrams of sodium', 'grams of dietary fiber', 'grams of complex carbohydrates', 'grams of sugars', 'milligrams of potassium', 'vitamins and minerals (% of FDA recommendation)', 'Display shelf', 'Weight in ounces per one serving', 'Number of cups in one serving', 'Rating of cereal']\n",
            "columnas categoricas ['name', 'Manufacturer', 'type']\n"
          ]
        }
      ]
    },
    {
      "cell_type": "markdown",
      "source": [
        "de tipo nominal: Manufacturer y name\n",
        "\n",
        "\n",
        "de tipo ordinal: type"
      ],
      "metadata": {
        "id": "qHnwb-o9Ei39"
      }
    },
    {
      "cell_type": "code",
      "source": [
        "#Utilizar pipelines y transformadores de columnas para completar las siguientes tareas:\n",
        "\n",
        "#Imputar algún valor faltante. Utilizar la estrategia \"mean\" para las columnas numéricas y la estrategia \"most_frequent\" para las columnas categóricas.\n",
        "\n",
        "#Antes de la imputación aislemos las columnas numericas a las que les faltan datos\n",
        "dt_num =dt[num_columns]\n",
        "#aislamos las columnas con datos faltantes\n",
        "dt_num.loc[:,dt_num.isna().any()]\n",
        "\n"
      ],
      "metadata": {
        "colab": {
          "base_uri": "https://localhost:8080/",
          "height": 423
        },
        "id": "ZuDtu1YtA3Tb",
        "outputId": "fec9ed8a-e064-42e4-8b1d-7ea55c2f1ebe"
      },
      "execution_count": 25,
      "outputs": [
        {
          "output_type": "execute_result",
          "data": {
            "text/plain": [
              "    grams of fat  milligrams of sodium  grams of sugars  \\\n",
              "0            2.0                 180.0             10.0   \n",
              "1            2.0                   NaN              NaN   \n",
              "2            2.0                 290.0              1.0   \n",
              "3            3.0                 210.0              9.0   \n",
              "4            2.0                 140.0              7.0   \n",
              "..           ...                   ...              ...   \n",
              "72           NaN                 240.0              2.0   \n",
              "73           1.0                 230.0              3.0   \n",
              "74           1.0                   0.0              NaN   \n",
              "75           0.0                  80.0              0.0   \n",
              "76           2.0                   0.0             -1.0   \n",
              "\n",
              "    vitamins and minerals (% of FDA recommendation)  \n",
              "0                                              25.0  \n",
              "1                                              25.0  \n",
              "2                                              25.0  \n",
              "3                                              25.0  \n",
              "4                                              25.0  \n",
              "..                                              ...  \n",
              "72                                             25.0  \n",
              "73                                             25.0  \n",
              "74                                             25.0  \n",
              "75                                              0.0  \n",
              "76                                              0.0  \n",
              "\n",
              "[77 rows x 4 columns]"
            ],
            "text/html": [
              "\n",
              "  <div id=\"df-5fef5950-5a5b-4b38-b02b-cc2ba183d2f3\">\n",
              "    <div class=\"colab-df-container\">\n",
              "      <div>\n",
              "<style scoped>\n",
              "    .dataframe tbody tr th:only-of-type {\n",
              "        vertical-align: middle;\n",
              "    }\n",
              "\n",
              "    .dataframe tbody tr th {\n",
              "        vertical-align: top;\n",
              "    }\n",
              "\n",
              "    .dataframe thead th {\n",
              "        text-align: right;\n",
              "    }\n",
              "</style>\n",
              "<table border=\"1\" class=\"dataframe\">\n",
              "  <thead>\n",
              "    <tr style=\"text-align: right;\">\n",
              "      <th></th>\n",
              "      <th>grams of fat</th>\n",
              "      <th>milligrams of sodium</th>\n",
              "      <th>grams of sugars</th>\n",
              "      <th>vitamins and minerals (% of FDA recommendation)</th>\n",
              "    </tr>\n",
              "  </thead>\n",
              "  <tbody>\n",
              "    <tr>\n",
              "      <th>0</th>\n",
              "      <td>2.0</td>\n",
              "      <td>180.0</td>\n",
              "      <td>10.0</td>\n",
              "      <td>25.0</td>\n",
              "    </tr>\n",
              "    <tr>\n",
              "      <th>1</th>\n",
              "      <td>2.0</td>\n",
              "      <td>NaN</td>\n",
              "      <td>NaN</td>\n",
              "      <td>25.0</td>\n",
              "    </tr>\n",
              "    <tr>\n",
              "      <th>2</th>\n",
              "      <td>2.0</td>\n",
              "      <td>290.0</td>\n",
              "      <td>1.0</td>\n",
              "      <td>25.0</td>\n",
              "    </tr>\n",
              "    <tr>\n",
              "      <th>3</th>\n",
              "      <td>3.0</td>\n",
              "      <td>210.0</td>\n",
              "      <td>9.0</td>\n",
              "      <td>25.0</td>\n",
              "    </tr>\n",
              "    <tr>\n",
              "      <th>4</th>\n",
              "      <td>2.0</td>\n",
              "      <td>140.0</td>\n",
              "      <td>7.0</td>\n",
              "      <td>25.0</td>\n",
              "    </tr>\n",
              "    <tr>\n",
              "      <th>...</th>\n",
              "      <td>...</td>\n",
              "      <td>...</td>\n",
              "      <td>...</td>\n",
              "      <td>...</td>\n",
              "    </tr>\n",
              "    <tr>\n",
              "      <th>72</th>\n",
              "      <td>NaN</td>\n",
              "      <td>240.0</td>\n",
              "      <td>2.0</td>\n",
              "      <td>25.0</td>\n",
              "    </tr>\n",
              "    <tr>\n",
              "      <th>73</th>\n",
              "      <td>1.0</td>\n",
              "      <td>230.0</td>\n",
              "      <td>3.0</td>\n",
              "      <td>25.0</td>\n",
              "    </tr>\n",
              "    <tr>\n",
              "      <th>74</th>\n",
              "      <td>1.0</td>\n",
              "      <td>0.0</td>\n",
              "      <td>NaN</td>\n",
              "      <td>25.0</td>\n",
              "    </tr>\n",
              "    <tr>\n",
              "      <th>75</th>\n",
              "      <td>0.0</td>\n",
              "      <td>80.0</td>\n",
              "      <td>0.0</td>\n",
              "      <td>0.0</td>\n",
              "    </tr>\n",
              "    <tr>\n",
              "      <th>76</th>\n",
              "      <td>2.0</td>\n",
              "      <td>0.0</td>\n",
              "      <td>-1.0</td>\n",
              "      <td>0.0</td>\n",
              "    </tr>\n",
              "  </tbody>\n",
              "</table>\n",
              "<p>77 rows × 4 columns</p>\n",
              "</div>\n",
              "      <button class=\"colab-df-convert\" onclick=\"convertToInteractive('df-5fef5950-5a5b-4b38-b02b-cc2ba183d2f3')\"\n",
              "              title=\"Convert this dataframe to an interactive table.\"\n",
              "              style=\"display:none;\">\n",
              "        \n",
              "  <svg xmlns=\"http://www.w3.org/2000/svg\" height=\"24px\"viewBox=\"0 0 24 24\"\n",
              "       width=\"24px\">\n",
              "    <path d=\"M0 0h24v24H0V0z\" fill=\"none\"/>\n",
              "    <path d=\"M18.56 5.44l.94 2.06.94-2.06 2.06-.94-2.06-.94-.94-2.06-.94 2.06-2.06.94zm-11 1L8.5 8.5l.94-2.06 2.06-.94-2.06-.94L8.5 2.5l-.94 2.06-2.06.94zm10 10l.94 2.06.94-2.06 2.06-.94-2.06-.94-.94-2.06-.94 2.06-2.06.94z\"/><path d=\"M17.41 7.96l-1.37-1.37c-.4-.4-.92-.59-1.43-.59-.52 0-1.04.2-1.43.59L10.3 9.45l-7.72 7.72c-.78.78-.78 2.05 0 2.83L4 21.41c.39.39.9.59 1.41.59.51 0 1.02-.2 1.41-.59l7.78-7.78 2.81-2.81c.8-.78.8-2.07 0-2.86zM5.41 20L4 18.59l7.72-7.72 1.47 1.35L5.41 20z\"/>\n",
              "  </svg>\n",
              "      </button>\n",
              "      \n",
              "  <style>\n",
              "    .colab-df-container {\n",
              "      display:flex;\n",
              "      flex-wrap:wrap;\n",
              "      gap: 12px;\n",
              "    }\n",
              "\n",
              "    .colab-df-convert {\n",
              "      background-color: #E8F0FE;\n",
              "      border: none;\n",
              "      border-radius: 50%;\n",
              "      cursor: pointer;\n",
              "      display: none;\n",
              "      fill: #1967D2;\n",
              "      height: 32px;\n",
              "      padding: 0 0 0 0;\n",
              "      width: 32px;\n",
              "    }\n",
              "\n",
              "    .colab-df-convert:hover {\n",
              "      background-color: #E2EBFA;\n",
              "      box-shadow: 0px 1px 2px rgba(60, 64, 67, 0.3), 0px 1px 3px 1px rgba(60, 64, 67, 0.15);\n",
              "      fill: #174EA6;\n",
              "    }\n",
              "\n",
              "    [theme=dark] .colab-df-convert {\n",
              "      background-color: #3B4455;\n",
              "      fill: #D2E3FC;\n",
              "    }\n",
              "\n",
              "    [theme=dark] .colab-df-convert:hover {\n",
              "      background-color: #434B5C;\n",
              "      box-shadow: 0px 1px 3px 1px rgba(0, 0, 0, 0.15);\n",
              "      filter: drop-shadow(0px 1px 2px rgba(0, 0, 0, 0.3));\n",
              "      fill: #FFFFFF;\n",
              "    }\n",
              "  </style>\n",
              "\n",
              "      <script>\n",
              "        const buttonEl =\n",
              "          document.querySelector('#df-5fef5950-5a5b-4b38-b02b-cc2ba183d2f3 button.colab-df-convert');\n",
              "        buttonEl.style.display =\n",
              "          google.colab.kernel.accessAllowed ? 'block' : 'none';\n",
              "\n",
              "        async function convertToInteractive(key) {\n",
              "          const element = document.querySelector('#df-5fef5950-5a5b-4b38-b02b-cc2ba183d2f3');\n",
              "          const dataTable =\n",
              "            await google.colab.kernel.invokeFunction('convertToInteractive',\n",
              "                                                     [key], {});\n",
              "          if (!dataTable) return;\n",
              "\n",
              "          const docLinkHtml = 'Like what you see? Visit the ' +\n",
              "            '<a target=\"_blank\" href=https://colab.research.google.com/notebooks/data_table.ipynb>data table notebook</a>'\n",
              "            + ' to learn more about interactive tables.';\n",
              "          element.innerHTML = '';\n",
              "          dataTable['output_type'] = 'display_data';\n",
              "          await google.colab.output.renderOutput(dataTable, element);\n",
              "          const docLink = document.createElement('div');\n",
              "          docLink.innerHTML = docLinkHtml;\n",
              "          element.appendChild(docLink);\n",
              "        }\n",
              "      </script>\n",
              "    </div>\n",
              "  </div>\n",
              "  "
            ]
          },
          "metadata": {},
          "execution_count": 25
        }
      ]
    },
    {
      "cell_type": "code",
      "source": [
        "X_train.isna().any()"
      ],
      "metadata": {
        "colab": {
          "base_uri": "https://localhost:8080/"
        },
        "id": "fEeETFQRxApC",
        "outputId": "1e40afbf-a893-431b-cf20-af91b0b6a277"
      },
      "execution_count": 26,
      "outputs": [
        {
          "output_type": "execute_result",
          "data": {
            "text/plain": [
              "name                                               False\n",
              "Manufacturer                                       False\n",
              "type                                                True\n",
              "grams of protein                                   False\n",
              "grams of fat                                        True\n",
              "milligrams of sodium                                True\n",
              "grams of dietary fiber                             False\n",
              "grams of complex carbohydrates                     False\n",
              "grams of sugars                                     True\n",
              "milligrams of potassium                            False\n",
              "vitamins and minerals (% of FDA recommendation)     True\n",
              "Display shelf                                      False\n",
              "Weight in ounces per one serving                   False\n",
              "Number of cups in one serving                      False\n",
              "Rating of cereal                                   False\n",
              "dtype: bool"
            ]
          },
          "metadata": {},
          "execution_count": 26
        }
      ]
    },
    {
      "cell_type": "code",
      "source": [
        "#usaremos ColumnTransformer para imputar los valores faltantes tanto númericos como categóricos\n",
        "mean_imputer= SimpleImputer(strategy='mean')\n",
        "freq_imputer= SimpleImputer(strategy= 'most_frequent')"
      ],
      "metadata": {
        "id": "_f9zkwZixTH5"
      },
      "execution_count": 28,
      "outputs": []
    },
    {
      "cell_type": "code",
      "source": [
        "#Realizar una codificación ONE-HOT a las características nominales.\n",
        "ohe=OneHotEncoder(handle_unknown='ignore', sparse=False)\n",
        "\n",
        "#Escalar las columnas numéricas.\n",
        "scaler= StandardScaler()"
      ],
      "metadata": {
        "id": "zGtWU6xp1-cH"
      },
      "execution_count": 31,
      "outputs": []
    },
    {
      "cell_type": "code",
      "source": [
        "#instanciamos pipelines \n",
        "numeric_pipe =make_pipeline(mean_imputer, scaler)\n",
        "numeric_pipe"
      ],
      "metadata": {
        "colab": {
          "base_uri": "https://localhost:8080/",
          "height": 173
        },
        "id": "y8209Xs83hxm",
        "outputId": "47695966-9bdd-4dcc-ee46-f69f10d276fb"
      },
      "execution_count": 32,
      "outputs": [
        {
          "output_type": "execute_result",
          "data": {
            "text/plain": [
              "Pipeline(steps=[('simpleimputer', SimpleImputer()),\n",
              "                ('standardscaler', StandardScaler())])"
            ],
            "text/html": [
              "<style>#sk-946f6074-a3a9-495b-a9f7-5130669083d6 {color: black;background-color: white;}#sk-946f6074-a3a9-495b-a9f7-5130669083d6 pre{padding: 0;}#sk-946f6074-a3a9-495b-a9f7-5130669083d6 div.sk-toggleable {background-color: white;}#sk-946f6074-a3a9-495b-a9f7-5130669083d6 label.sk-toggleable__label {cursor: pointer;display: block;width: 100%;margin-bottom: 0;padding: 0.3em;box-sizing: border-box;text-align: center;}#sk-946f6074-a3a9-495b-a9f7-5130669083d6 label.sk-toggleable__label-arrow:before {content: \"▸\";float: left;margin-right: 0.25em;color: #696969;}#sk-946f6074-a3a9-495b-a9f7-5130669083d6 label.sk-toggleable__label-arrow:hover:before {color: black;}#sk-946f6074-a3a9-495b-a9f7-5130669083d6 div.sk-estimator:hover label.sk-toggleable__label-arrow:before {color: black;}#sk-946f6074-a3a9-495b-a9f7-5130669083d6 div.sk-toggleable__content {max-height: 0;max-width: 0;overflow: hidden;text-align: left;background-color: #f0f8ff;}#sk-946f6074-a3a9-495b-a9f7-5130669083d6 div.sk-toggleable__content pre {margin: 0.2em;color: black;border-radius: 0.25em;background-color: #f0f8ff;}#sk-946f6074-a3a9-495b-a9f7-5130669083d6 input.sk-toggleable__control:checked~div.sk-toggleable__content {max-height: 200px;max-width: 100%;overflow: auto;}#sk-946f6074-a3a9-495b-a9f7-5130669083d6 input.sk-toggleable__control:checked~label.sk-toggleable__label-arrow:before {content: \"▾\";}#sk-946f6074-a3a9-495b-a9f7-5130669083d6 div.sk-estimator input.sk-toggleable__control:checked~label.sk-toggleable__label {background-color: #d4ebff;}#sk-946f6074-a3a9-495b-a9f7-5130669083d6 div.sk-label input.sk-toggleable__control:checked~label.sk-toggleable__label {background-color: #d4ebff;}#sk-946f6074-a3a9-495b-a9f7-5130669083d6 input.sk-hidden--visually {border: 0;clip: rect(1px 1px 1px 1px);clip: rect(1px, 1px, 1px, 1px);height: 1px;margin: -1px;overflow: hidden;padding: 0;position: absolute;width: 1px;}#sk-946f6074-a3a9-495b-a9f7-5130669083d6 div.sk-estimator {font-family: monospace;background-color: #f0f8ff;border: 1px dotted black;border-radius: 0.25em;box-sizing: border-box;margin-bottom: 0.5em;}#sk-946f6074-a3a9-495b-a9f7-5130669083d6 div.sk-estimator:hover {background-color: #d4ebff;}#sk-946f6074-a3a9-495b-a9f7-5130669083d6 div.sk-parallel-item::after {content: \"\";width: 100%;border-bottom: 1px solid gray;flex-grow: 1;}#sk-946f6074-a3a9-495b-a9f7-5130669083d6 div.sk-label:hover label.sk-toggleable__label {background-color: #d4ebff;}#sk-946f6074-a3a9-495b-a9f7-5130669083d6 div.sk-serial::before {content: \"\";position: absolute;border-left: 1px solid gray;box-sizing: border-box;top: 2em;bottom: 0;left: 50%;}#sk-946f6074-a3a9-495b-a9f7-5130669083d6 div.sk-serial {display: flex;flex-direction: column;align-items: center;background-color: white;padding-right: 0.2em;padding-left: 0.2em;}#sk-946f6074-a3a9-495b-a9f7-5130669083d6 div.sk-item {z-index: 1;}#sk-946f6074-a3a9-495b-a9f7-5130669083d6 div.sk-parallel {display: flex;align-items: stretch;justify-content: center;background-color: white;}#sk-946f6074-a3a9-495b-a9f7-5130669083d6 div.sk-parallel::before {content: \"\";position: absolute;border-left: 1px solid gray;box-sizing: border-box;top: 2em;bottom: 0;left: 50%;}#sk-946f6074-a3a9-495b-a9f7-5130669083d6 div.sk-parallel-item {display: flex;flex-direction: column;position: relative;background-color: white;}#sk-946f6074-a3a9-495b-a9f7-5130669083d6 div.sk-parallel-item:first-child::after {align-self: flex-end;width: 50%;}#sk-946f6074-a3a9-495b-a9f7-5130669083d6 div.sk-parallel-item:last-child::after {align-self: flex-start;width: 50%;}#sk-946f6074-a3a9-495b-a9f7-5130669083d6 div.sk-parallel-item:only-child::after {width: 0;}#sk-946f6074-a3a9-495b-a9f7-5130669083d6 div.sk-dashed-wrapped {border: 1px dashed gray;margin: 0 0.4em 0.5em 0.4em;box-sizing: border-box;padding-bottom: 0.4em;background-color: white;position: relative;}#sk-946f6074-a3a9-495b-a9f7-5130669083d6 div.sk-label label {font-family: monospace;font-weight: bold;background-color: white;display: inline-block;line-height: 1.2em;}#sk-946f6074-a3a9-495b-a9f7-5130669083d6 div.sk-label-container {position: relative;z-index: 2;text-align: center;}#sk-946f6074-a3a9-495b-a9f7-5130669083d6 div.sk-container {/* jupyter's `normalize.less` sets `[hidden] { display: none; }` but bootstrap.min.css set `[hidden] { display: none !important; }` so we also need the `!important` here to be able to override the default hidden behavior on the sphinx rendered scikit-learn.org. See: https://github.com/scikit-learn/scikit-learn/issues/21755 */display: inline-block !important;position: relative;}#sk-946f6074-a3a9-495b-a9f7-5130669083d6 div.sk-text-repr-fallback {display: none;}</style><div id=\"sk-946f6074-a3a9-495b-a9f7-5130669083d6\" class=\"sk-top-container\"><div class=\"sk-text-repr-fallback\"><pre>Pipeline(steps=[(&#x27;simpleimputer&#x27;, SimpleImputer()),\n",
              "                (&#x27;standardscaler&#x27;, StandardScaler())])</pre><b>Please rerun this cell to show the HTML repr or trust the notebook.</b></div><div class=\"sk-container\" hidden><div class=\"sk-item sk-dashed-wrapped\"><div class=\"sk-label-container\"><div class=\"sk-label sk-toggleable\"><input class=\"sk-toggleable__control sk-hidden--visually\" id=\"8e8bc326-721b-4a6e-94ce-e4bc3b65d527\" type=\"checkbox\" ><label for=\"8e8bc326-721b-4a6e-94ce-e4bc3b65d527\" class=\"sk-toggleable__label sk-toggleable__label-arrow\">Pipeline</label><div class=\"sk-toggleable__content\"><pre>Pipeline(steps=[(&#x27;simpleimputer&#x27;, SimpleImputer()),\n",
              "                (&#x27;standardscaler&#x27;, StandardScaler())])</pre></div></div></div><div class=\"sk-serial\"><div class=\"sk-item\"><div class=\"sk-estimator sk-toggleable\"><input class=\"sk-toggleable__control sk-hidden--visually\" id=\"6c0a3774-a9c4-478b-9c64-5272d1be2e66\" type=\"checkbox\" ><label for=\"6c0a3774-a9c4-478b-9c64-5272d1be2e66\" class=\"sk-toggleable__label sk-toggleable__label-arrow\">SimpleImputer</label><div class=\"sk-toggleable__content\"><pre>SimpleImputer()</pre></div></div></div><div class=\"sk-item\"><div class=\"sk-estimator sk-toggleable\"><input class=\"sk-toggleable__control sk-hidden--visually\" id=\"9ece723b-9127-40f1-b103-bef9f069cb33\" type=\"checkbox\" ><label for=\"9ece723b-9127-40f1-b103-bef9f069cb33\" class=\"sk-toggleable__label sk-toggleable__label-arrow\">StandardScaler</label><div class=\"sk-toggleable__content\"><pre>StandardScaler()</pre></div></div></div></div></div></div></div>"
            ]
          },
          "metadata": {},
          "execution_count": 32
        }
      ]
    },
    {
      "cell_type": "code",
      "source": [
        "categorical_pipe=make_pipeline(freq_imputer, ohe)\n",
        "categorical_pipe"
      ],
      "metadata": {
        "colab": {
          "base_uri": "https://localhost:8080/",
          "height": 127
        },
        "id": "EKKibTKA3u6m",
        "outputId": "c0a7bbaf-e638-46a9-d8ff-33947f02ef6b"
      },
      "execution_count": 33,
      "outputs": [
        {
          "output_type": "execute_result",
          "data": {
            "text/plain": [
              "Pipeline(steps=[('simpleimputer', SimpleImputer(strategy='most_frequent')),\n",
              "                ('onehotencoder',\n",
              "                 OneHotEncoder(handle_unknown='ignore', sparse=False))])"
            ],
            "text/html": [
              "<style>#sk-b273f670-b004-4804-9d79-8d4f72f70142 {color: black;background-color: white;}#sk-b273f670-b004-4804-9d79-8d4f72f70142 pre{padding: 0;}#sk-b273f670-b004-4804-9d79-8d4f72f70142 div.sk-toggleable {background-color: white;}#sk-b273f670-b004-4804-9d79-8d4f72f70142 label.sk-toggleable__label {cursor: pointer;display: block;width: 100%;margin-bottom: 0;padding: 0.3em;box-sizing: border-box;text-align: center;}#sk-b273f670-b004-4804-9d79-8d4f72f70142 label.sk-toggleable__label-arrow:before {content: \"▸\";float: left;margin-right: 0.25em;color: #696969;}#sk-b273f670-b004-4804-9d79-8d4f72f70142 label.sk-toggleable__label-arrow:hover:before {color: black;}#sk-b273f670-b004-4804-9d79-8d4f72f70142 div.sk-estimator:hover label.sk-toggleable__label-arrow:before {color: black;}#sk-b273f670-b004-4804-9d79-8d4f72f70142 div.sk-toggleable__content {max-height: 0;max-width: 0;overflow: hidden;text-align: left;background-color: #f0f8ff;}#sk-b273f670-b004-4804-9d79-8d4f72f70142 div.sk-toggleable__content pre {margin: 0.2em;color: black;border-radius: 0.25em;background-color: #f0f8ff;}#sk-b273f670-b004-4804-9d79-8d4f72f70142 input.sk-toggleable__control:checked~div.sk-toggleable__content {max-height: 200px;max-width: 100%;overflow: auto;}#sk-b273f670-b004-4804-9d79-8d4f72f70142 input.sk-toggleable__control:checked~label.sk-toggleable__label-arrow:before {content: \"▾\";}#sk-b273f670-b004-4804-9d79-8d4f72f70142 div.sk-estimator input.sk-toggleable__control:checked~label.sk-toggleable__label {background-color: #d4ebff;}#sk-b273f670-b004-4804-9d79-8d4f72f70142 div.sk-label input.sk-toggleable__control:checked~label.sk-toggleable__label {background-color: #d4ebff;}#sk-b273f670-b004-4804-9d79-8d4f72f70142 input.sk-hidden--visually {border: 0;clip: rect(1px 1px 1px 1px);clip: rect(1px, 1px, 1px, 1px);height: 1px;margin: -1px;overflow: hidden;padding: 0;position: absolute;width: 1px;}#sk-b273f670-b004-4804-9d79-8d4f72f70142 div.sk-estimator {font-family: monospace;background-color: #f0f8ff;border: 1px dotted black;border-radius: 0.25em;box-sizing: border-box;margin-bottom: 0.5em;}#sk-b273f670-b004-4804-9d79-8d4f72f70142 div.sk-estimator:hover {background-color: #d4ebff;}#sk-b273f670-b004-4804-9d79-8d4f72f70142 div.sk-parallel-item::after {content: \"\";width: 100%;border-bottom: 1px solid gray;flex-grow: 1;}#sk-b273f670-b004-4804-9d79-8d4f72f70142 div.sk-label:hover label.sk-toggleable__label {background-color: #d4ebff;}#sk-b273f670-b004-4804-9d79-8d4f72f70142 div.sk-serial::before {content: \"\";position: absolute;border-left: 1px solid gray;box-sizing: border-box;top: 2em;bottom: 0;left: 50%;}#sk-b273f670-b004-4804-9d79-8d4f72f70142 div.sk-serial {display: flex;flex-direction: column;align-items: center;background-color: white;padding-right: 0.2em;padding-left: 0.2em;}#sk-b273f670-b004-4804-9d79-8d4f72f70142 div.sk-item {z-index: 1;}#sk-b273f670-b004-4804-9d79-8d4f72f70142 div.sk-parallel {display: flex;align-items: stretch;justify-content: center;background-color: white;}#sk-b273f670-b004-4804-9d79-8d4f72f70142 div.sk-parallel::before {content: \"\";position: absolute;border-left: 1px solid gray;box-sizing: border-box;top: 2em;bottom: 0;left: 50%;}#sk-b273f670-b004-4804-9d79-8d4f72f70142 div.sk-parallel-item {display: flex;flex-direction: column;position: relative;background-color: white;}#sk-b273f670-b004-4804-9d79-8d4f72f70142 div.sk-parallel-item:first-child::after {align-self: flex-end;width: 50%;}#sk-b273f670-b004-4804-9d79-8d4f72f70142 div.sk-parallel-item:last-child::after {align-self: flex-start;width: 50%;}#sk-b273f670-b004-4804-9d79-8d4f72f70142 div.sk-parallel-item:only-child::after {width: 0;}#sk-b273f670-b004-4804-9d79-8d4f72f70142 div.sk-dashed-wrapped {border: 1px dashed gray;margin: 0 0.4em 0.5em 0.4em;box-sizing: border-box;padding-bottom: 0.4em;background-color: white;position: relative;}#sk-b273f670-b004-4804-9d79-8d4f72f70142 div.sk-label label {font-family: monospace;font-weight: bold;background-color: white;display: inline-block;line-height: 1.2em;}#sk-b273f670-b004-4804-9d79-8d4f72f70142 div.sk-label-container {position: relative;z-index: 2;text-align: center;}#sk-b273f670-b004-4804-9d79-8d4f72f70142 div.sk-container {/* jupyter's `normalize.less` sets `[hidden] { display: none; }` but bootstrap.min.css set `[hidden] { display: none !important; }` so we also need the `!important` here to be able to override the default hidden behavior on the sphinx rendered scikit-learn.org. See: https://github.com/scikit-learn/scikit-learn/issues/21755 */display: inline-block !important;position: relative;}#sk-b273f670-b004-4804-9d79-8d4f72f70142 div.sk-text-repr-fallback {display: none;}</style><div id=\"sk-b273f670-b004-4804-9d79-8d4f72f70142\" class=\"sk-top-container\"><div class=\"sk-text-repr-fallback\"><pre>Pipeline(steps=[(&#x27;simpleimputer&#x27;, SimpleImputer(strategy=&#x27;most_frequent&#x27;)),\n",
              "                (&#x27;onehotencoder&#x27;,\n",
              "                 OneHotEncoder(handle_unknown=&#x27;ignore&#x27;, sparse=False))])</pre><b>Please rerun this cell to show the HTML repr or trust the notebook.</b></div><div class=\"sk-container\" hidden><div class=\"sk-item sk-dashed-wrapped\"><div class=\"sk-label-container\"><div class=\"sk-label sk-toggleable\"><input class=\"sk-toggleable__control sk-hidden--visually\" id=\"9fa3a0fd-baf3-4c6c-bfe2-6f097e508345\" type=\"checkbox\" ><label for=\"9fa3a0fd-baf3-4c6c-bfe2-6f097e508345\" class=\"sk-toggleable__label sk-toggleable__label-arrow\">Pipeline</label><div class=\"sk-toggleable__content\"><pre>Pipeline(steps=[(&#x27;simpleimputer&#x27;, SimpleImputer(strategy=&#x27;most_frequent&#x27;)),\n",
              "                (&#x27;onehotencoder&#x27;,\n",
              "                 OneHotEncoder(handle_unknown=&#x27;ignore&#x27;, sparse=False))])</pre></div></div></div><div class=\"sk-serial\"><div class=\"sk-item\"><div class=\"sk-estimator sk-toggleable\"><input class=\"sk-toggleable__control sk-hidden--visually\" id=\"b3c9025d-81ff-4b77-93af-5c7d579382c8\" type=\"checkbox\" ><label for=\"b3c9025d-81ff-4b77-93af-5c7d579382c8\" class=\"sk-toggleable__label sk-toggleable__label-arrow\">SimpleImputer</label><div class=\"sk-toggleable__content\"><pre>SimpleImputer(strategy=&#x27;most_frequent&#x27;)</pre></div></div></div><div class=\"sk-item\"><div class=\"sk-estimator sk-toggleable\"><input class=\"sk-toggleable__control sk-hidden--visually\" id=\"1fcf05cf-e6b3-4325-a396-2198d92d93f8\" type=\"checkbox\" ><label for=\"1fcf05cf-e6b3-4325-a396-2198d92d93f8\" class=\"sk-toggleable__label sk-toggleable__label-arrow\">OneHotEncoder</label><div class=\"sk-toggleable__content\"><pre>OneHotEncoder(handle_unknown=&#x27;ignore&#x27;, sparse=False)</pre></div></div></div></div></div></div></div>"
            ]
          },
          "metadata": {},
          "execution_count": 33
        }
      ]
    },
    {
      "cell_type": "code",
      "source": [
        "#Todos los datos de preprocesamiento deben estar contenidos en un único objeto de preprocesamiento.\n",
        "\n",
        "# primero creamos las tuplas para llevalr al column transformer\n",
        "number_tuple=(numeric_pipe, num_selector)\n",
        "category_tuple=(categorical_pipe, cat_selector)\n",
        "\n",
        "#Ahora si creamos un unico ColumnTransformer\n",
        "preprocessor= make_column_transformer(number_tuple, category_tuple)\n",
        "preprocessor"
      ],
      "metadata": {
        "colab": {
          "base_uri": "https://localhost:8080/",
          "height": 176
        },
        "id": "iqZqQvz83ANJ",
        "outputId": "e32e53bc-5470-4029-eb0c-a6e339a79730"
      },
      "execution_count": 36,
      "outputs": [
        {
          "output_type": "execute_result",
          "data": {
            "text/plain": [
              "ColumnTransformer(transformers=[('pipeline-1',\n",
              "                                 Pipeline(steps=[('simpleimputer',\n",
              "                                                  SimpleImputer()),\n",
              "                                                 ('standardscaler',\n",
              "                                                  StandardScaler())]),\n",
              "                                 <sklearn.compose._column_transformer.make_column_selector object at 0x7f56977fe410>),\n",
              "                                ('pipeline-2',\n",
              "                                 Pipeline(steps=[('simpleimputer',\n",
              "                                                  SimpleImputer(strategy='most_frequent')),\n",
              "                                                 ('onehotencoder',\n",
              "                                                  OneHotEncoder(handle_unknown='ignore',\n",
              "                                                                sparse=False))]),\n",
              "                                 <sklearn.compose._column_transformer.make_column_selector object at 0x7f56977fe450>)])"
            ],
            "text/html": [
              "<style>#sk-9c00759f-ca6c-453d-8ffc-19cf10127a7c {color: black;background-color: white;}#sk-9c00759f-ca6c-453d-8ffc-19cf10127a7c pre{padding: 0;}#sk-9c00759f-ca6c-453d-8ffc-19cf10127a7c div.sk-toggleable {background-color: white;}#sk-9c00759f-ca6c-453d-8ffc-19cf10127a7c label.sk-toggleable__label {cursor: pointer;display: block;width: 100%;margin-bottom: 0;padding: 0.3em;box-sizing: border-box;text-align: center;}#sk-9c00759f-ca6c-453d-8ffc-19cf10127a7c label.sk-toggleable__label-arrow:before {content: \"▸\";float: left;margin-right: 0.25em;color: #696969;}#sk-9c00759f-ca6c-453d-8ffc-19cf10127a7c label.sk-toggleable__label-arrow:hover:before {color: black;}#sk-9c00759f-ca6c-453d-8ffc-19cf10127a7c div.sk-estimator:hover label.sk-toggleable__label-arrow:before {color: black;}#sk-9c00759f-ca6c-453d-8ffc-19cf10127a7c div.sk-toggleable__content {max-height: 0;max-width: 0;overflow: hidden;text-align: left;background-color: #f0f8ff;}#sk-9c00759f-ca6c-453d-8ffc-19cf10127a7c div.sk-toggleable__content pre {margin: 0.2em;color: black;border-radius: 0.25em;background-color: #f0f8ff;}#sk-9c00759f-ca6c-453d-8ffc-19cf10127a7c input.sk-toggleable__control:checked~div.sk-toggleable__content {max-height: 200px;max-width: 100%;overflow: auto;}#sk-9c00759f-ca6c-453d-8ffc-19cf10127a7c input.sk-toggleable__control:checked~label.sk-toggleable__label-arrow:before {content: \"▾\";}#sk-9c00759f-ca6c-453d-8ffc-19cf10127a7c div.sk-estimator input.sk-toggleable__control:checked~label.sk-toggleable__label {background-color: #d4ebff;}#sk-9c00759f-ca6c-453d-8ffc-19cf10127a7c div.sk-label input.sk-toggleable__control:checked~label.sk-toggleable__label {background-color: #d4ebff;}#sk-9c00759f-ca6c-453d-8ffc-19cf10127a7c input.sk-hidden--visually {border: 0;clip: rect(1px 1px 1px 1px);clip: rect(1px, 1px, 1px, 1px);height: 1px;margin: -1px;overflow: hidden;padding: 0;position: absolute;width: 1px;}#sk-9c00759f-ca6c-453d-8ffc-19cf10127a7c div.sk-estimator {font-family: monospace;background-color: #f0f8ff;border: 1px dotted black;border-radius: 0.25em;box-sizing: border-box;margin-bottom: 0.5em;}#sk-9c00759f-ca6c-453d-8ffc-19cf10127a7c div.sk-estimator:hover {background-color: #d4ebff;}#sk-9c00759f-ca6c-453d-8ffc-19cf10127a7c div.sk-parallel-item::after {content: \"\";width: 100%;border-bottom: 1px solid gray;flex-grow: 1;}#sk-9c00759f-ca6c-453d-8ffc-19cf10127a7c div.sk-label:hover label.sk-toggleable__label {background-color: #d4ebff;}#sk-9c00759f-ca6c-453d-8ffc-19cf10127a7c div.sk-serial::before {content: \"\";position: absolute;border-left: 1px solid gray;box-sizing: border-box;top: 2em;bottom: 0;left: 50%;}#sk-9c00759f-ca6c-453d-8ffc-19cf10127a7c div.sk-serial {display: flex;flex-direction: column;align-items: center;background-color: white;padding-right: 0.2em;padding-left: 0.2em;}#sk-9c00759f-ca6c-453d-8ffc-19cf10127a7c div.sk-item {z-index: 1;}#sk-9c00759f-ca6c-453d-8ffc-19cf10127a7c div.sk-parallel {display: flex;align-items: stretch;justify-content: center;background-color: white;}#sk-9c00759f-ca6c-453d-8ffc-19cf10127a7c div.sk-parallel::before {content: \"\";position: absolute;border-left: 1px solid gray;box-sizing: border-box;top: 2em;bottom: 0;left: 50%;}#sk-9c00759f-ca6c-453d-8ffc-19cf10127a7c div.sk-parallel-item {display: flex;flex-direction: column;position: relative;background-color: white;}#sk-9c00759f-ca6c-453d-8ffc-19cf10127a7c div.sk-parallel-item:first-child::after {align-self: flex-end;width: 50%;}#sk-9c00759f-ca6c-453d-8ffc-19cf10127a7c div.sk-parallel-item:last-child::after {align-self: flex-start;width: 50%;}#sk-9c00759f-ca6c-453d-8ffc-19cf10127a7c div.sk-parallel-item:only-child::after {width: 0;}#sk-9c00759f-ca6c-453d-8ffc-19cf10127a7c div.sk-dashed-wrapped {border: 1px dashed gray;margin: 0 0.4em 0.5em 0.4em;box-sizing: border-box;padding-bottom: 0.4em;background-color: white;position: relative;}#sk-9c00759f-ca6c-453d-8ffc-19cf10127a7c div.sk-label label {font-family: monospace;font-weight: bold;background-color: white;display: inline-block;line-height: 1.2em;}#sk-9c00759f-ca6c-453d-8ffc-19cf10127a7c div.sk-label-container {position: relative;z-index: 2;text-align: center;}#sk-9c00759f-ca6c-453d-8ffc-19cf10127a7c div.sk-container {/* jupyter's `normalize.less` sets `[hidden] { display: none; }` but bootstrap.min.css set `[hidden] { display: none !important; }` so we also need the `!important` here to be able to override the default hidden behavior on the sphinx rendered scikit-learn.org. See: https://github.com/scikit-learn/scikit-learn/issues/21755 */display: inline-block !important;position: relative;}#sk-9c00759f-ca6c-453d-8ffc-19cf10127a7c div.sk-text-repr-fallback {display: none;}</style><div id=\"sk-9c00759f-ca6c-453d-8ffc-19cf10127a7c\" class=\"sk-top-container\"><div class=\"sk-text-repr-fallback\"><pre>ColumnTransformer(transformers=[(&#x27;pipeline-1&#x27;,\n",
              "                                 Pipeline(steps=[(&#x27;simpleimputer&#x27;,\n",
              "                                                  SimpleImputer()),\n",
              "                                                 (&#x27;standardscaler&#x27;,\n",
              "                                                  StandardScaler())]),\n",
              "                                 &lt;sklearn.compose._column_transformer.make_column_selector object at 0x7f56977fe410&gt;),\n",
              "                                (&#x27;pipeline-2&#x27;,\n",
              "                                 Pipeline(steps=[(&#x27;simpleimputer&#x27;,\n",
              "                                                  SimpleImputer(strategy=&#x27;most_frequent&#x27;)),\n",
              "                                                 (&#x27;onehotencoder&#x27;,\n",
              "                                                  OneHotEncoder(handle_unknown=&#x27;ignore&#x27;,\n",
              "                                                                sparse=False))]),\n",
              "                                 &lt;sklearn.compose._column_transformer.make_column_selector object at 0x7f56977fe450&gt;)])</pre><b>Please rerun this cell to show the HTML repr or trust the notebook.</b></div><div class=\"sk-container\" hidden><div class=\"sk-item sk-dashed-wrapped\"><div class=\"sk-label-container\"><div class=\"sk-label sk-toggleable\"><input class=\"sk-toggleable__control sk-hidden--visually\" id=\"70092eee-0f85-4300-91d9-be68c9ba971b\" type=\"checkbox\" ><label for=\"70092eee-0f85-4300-91d9-be68c9ba971b\" class=\"sk-toggleable__label sk-toggleable__label-arrow\">ColumnTransformer</label><div class=\"sk-toggleable__content\"><pre>ColumnTransformer(transformers=[(&#x27;pipeline-1&#x27;,\n",
              "                                 Pipeline(steps=[(&#x27;simpleimputer&#x27;,\n",
              "                                                  SimpleImputer()),\n",
              "                                                 (&#x27;standardscaler&#x27;,\n",
              "                                                  StandardScaler())]),\n",
              "                                 &lt;sklearn.compose._column_transformer.make_column_selector object at 0x7f56977fe410&gt;),\n",
              "                                (&#x27;pipeline-2&#x27;,\n",
              "                                 Pipeline(steps=[(&#x27;simpleimputer&#x27;,\n",
              "                                                  SimpleImputer(strategy=&#x27;most_frequent&#x27;)),\n",
              "                                                 (&#x27;onehotencoder&#x27;,\n",
              "                                                  OneHotEncoder(handle_unknown=&#x27;ignore&#x27;,\n",
              "                                                                sparse=False))]),\n",
              "                                 &lt;sklearn.compose._column_transformer.make_column_selector object at 0x7f56977fe450&gt;)])</pre></div></div></div><div class=\"sk-parallel\"><div class=\"sk-parallel-item\"><div class=\"sk-item\"><div class=\"sk-label-container\"><div class=\"sk-label sk-toggleable\"><input class=\"sk-toggleable__control sk-hidden--visually\" id=\"df2e3bb6-7c4b-4aad-bf66-0a6d529f0c6e\" type=\"checkbox\" ><label for=\"df2e3bb6-7c4b-4aad-bf66-0a6d529f0c6e\" class=\"sk-toggleable__label sk-toggleable__label-arrow\">pipeline-1</label><div class=\"sk-toggleable__content\"><pre>&lt;sklearn.compose._column_transformer.make_column_selector object at 0x7f56977fe410&gt;</pre></div></div></div><div class=\"sk-serial\"><div class=\"sk-item\"><div class=\"sk-serial\"><div class=\"sk-item\"><div class=\"sk-estimator sk-toggleable\"><input class=\"sk-toggleable__control sk-hidden--visually\" id=\"7f4a6756-baf4-43fc-a026-3e488ba19d2e\" type=\"checkbox\" ><label for=\"7f4a6756-baf4-43fc-a026-3e488ba19d2e\" class=\"sk-toggleable__label sk-toggleable__label-arrow\">SimpleImputer</label><div class=\"sk-toggleable__content\"><pre>SimpleImputer()</pre></div></div></div><div class=\"sk-item\"><div class=\"sk-estimator sk-toggleable\"><input class=\"sk-toggleable__control sk-hidden--visually\" id=\"126b16ae-a653-44dd-bfbd-1f974575470c\" type=\"checkbox\" ><label for=\"126b16ae-a653-44dd-bfbd-1f974575470c\" class=\"sk-toggleable__label sk-toggleable__label-arrow\">StandardScaler</label><div class=\"sk-toggleable__content\"><pre>StandardScaler()</pre></div></div></div></div></div></div></div></div><div class=\"sk-parallel-item\"><div class=\"sk-item\"><div class=\"sk-label-container\"><div class=\"sk-label sk-toggleable\"><input class=\"sk-toggleable__control sk-hidden--visually\" id=\"de7e8970-ef67-4a90-941b-0c2ea335d0b8\" type=\"checkbox\" ><label for=\"de7e8970-ef67-4a90-941b-0c2ea335d0b8\" class=\"sk-toggleable__label sk-toggleable__label-arrow\">pipeline-2</label><div class=\"sk-toggleable__content\"><pre>&lt;sklearn.compose._column_transformer.make_column_selector object at 0x7f56977fe450&gt;</pre></div></div></div><div class=\"sk-serial\"><div class=\"sk-item\"><div class=\"sk-serial\"><div class=\"sk-item\"><div class=\"sk-estimator sk-toggleable\"><input class=\"sk-toggleable__control sk-hidden--visually\" id=\"8f5bdc56-0db4-4b22-add7-6c2f881f2fc5\" type=\"checkbox\" ><label for=\"8f5bdc56-0db4-4b22-add7-6c2f881f2fc5\" class=\"sk-toggleable__label sk-toggleable__label-arrow\">SimpleImputer</label><div class=\"sk-toggleable__content\"><pre>SimpleImputer(strategy=&#x27;most_frequent&#x27;)</pre></div></div></div><div class=\"sk-item\"><div class=\"sk-estimator sk-toggleable\"><input class=\"sk-toggleable__control sk-hidden--visually\" id=\"637317d6-4be5-47a4-8b28-27bae5298acd\" type=\"checkbox\" ><label for=\"637317d6-4be5-47a4-8b28-27bae5298acd\" class=\"sk-toggleable__label sk-toggleable__label-arrow\">OneHotEncoder</label><div class=\"sk-toggleable__content\"><pre>OneHotEncoder(handle_unknown=&#x27;ignore&#x27;, sparse=False)</pre></div></div></div></div></div></div></div></div></div></div></div></div>"
            ]
          },
          "metadata": {},
          "execution_count": 36
        }
      ]
    },
    {
      "cell_type": "markdown",
      "source": [
        "Utilizar el objeto de preprocesamiento para transformar los datos de manera adecuada, evitar la fuga de datos para dejarlos listos para el modelado. "
      ],
      "metadata": {
        "id": "p4QEr2uq5WbP"
      }
    },
    {
      "cell_type": "code",
      "source": [
        "#fit on train \n",
        "preprocessor.fit(X_train) #vemos 4 transformadores dentro de un ColumnTransformer"
      ],
      "metadata": {
        "colab": {
          "base_uri": "https://localhost:8080/",
          "height": 153
        },
        "id": "REA1QBw45UiX",
        "outputId": "e8e76555-5df4-4314-94a5-0215ee0f67b5"
      },
      "execution_count": 37,
      "outputs": [
        {
          "output_type": "execute_result",
          "data": {
            "text/plain": [
              "ColumnTransformer(transformers=[('pipeline-1',\n",
              "                                 Pipeline(steps=[('simpleimputer',\n",
              "                                                  SimpleImputer()),\n",
              "                                                 ('standardscaler',\n",
              "                                                  StandardScaler())]),\n",
              "                                 <sklearn.compose._column_transformer.make_column_selector object at 0x7f56977fe410>),\n",
              "                                ('pipeline-2',\n",
              "                                 Pipeline(steps=[('simpleimputer',\n",
              "                                                  SimpleImputer(strategy='most_frequent')),\n",
              "                                                 ('onehotencoder',\n",
              "                                                  OneHotEncoder(handle_unknown='ignore',\n",
              "                                                                sparse=False))]),\n",
              "                                 <sklearn.compose._column_transformer.make_column_selector object at 0x7f56977fe450>)])"
            ],
            "text/html": [
              "<style>#sk-b3510fa8-5849-40f9-962c-ff13f579295d {color: black;background-color: white;}#sk-b3510fa8-5849-40f9-962c-ff13f579295d pre{padding: 0;}#sk-b3510fa8-5849-40f9-962c-ff13f579295d div.sk-toggleable {background-color: white;}#sk-b3510fa8-5849-40f9-962c-ff13f579295d label.sk-toggleable__label {cursor: pointer;display: block;width: 100%;margin-bottom: 0;padding: 0.3em;box-sizing: border-box;text-align: center;}#sk-b3510fa8-5849-40f9-962c-ff13f579295d label.sk-toggleable__label-arrow:before {content: \"▸\";float: left;margin-right: 0.25em;color: #696969;}#sk-b3510fa8-5849-40f9-962c-ff13f579295d label.sk-toggleable__label-arrow:hover:before {color: black;}#sk-b3510fa8-5849-40f9-962c-ff13f579295d div.sk-estimator:hover label.sk-toggleable__label-arrow:before {color: black;}#sk-b3510fa8-5849-40f9-962c-ff13f579295d div.sk-toggleable__content {max-height: 0;max-width: 0;overflow: hidden;text-align: left;background-color: #f0f8ff;}#sk-b3510fa8-5849-40f9-962c-ff13f579295d div.sk-toggleable__content pre {margin: 0.2em;color: black;border-radius: 0.25em;background-color: #f0f8ff;}#sk-b3510fa8-5849-40f9-962c-ff13f579295d input.sk-toggleable__control:checked~div.sk-toggleable__content {max-height: 200px;max-width: 100%;overflow: auto;}#sk-b3510fa8-5849-40f9-962c-ff13f579295d input.sk-toggleable__control:checked~label.sk-toggleable__label-arrow:before {content: \"▾\";}#sk-b3510fa8-5849-40f9-962c-ff13f579295d div.sk-estimator input.sk-toggleable__control:checked~label.sk-toggleable__label {background-color: #d4ebff;}#sk-b3510fa8-5849-40f9-962c-ff13f579295d div.sk-label input.sk-toggleable__control:checked~label.sk-toggleable__label {background-color: #d4ebff;}#sk-b3510fa8-5849-40f9-962c-ff13f579295d input.sk-hidden--visually {border: 0;clip: rect(1px 1px 1px 1px);clip: rect(1px, 1px, 1px, 1px);height: 1px;margin: -1px;overflow: hidden;padding: 0;position: absolute;width: 1px;}#sk-b3510fa8-5849-40f9-962c-ff13f579295d div.sk-estimator {font-family: monospace;background-color: #f0f8ff;border: 1px dotted black;border-radius: 0.25em;box-sizing: border-box;margin-bottom: 0.5em;}#sk-b3510fa8-5849-40f9-962c-ff13f579295d div.sk-estimator:hover {background-color: #d4ebff;}#sk-b3510fa8-5849-40f9-962c-ff13f579295d div.sk-parallel-item::after {content: \"\";width: 100%;border-bottom: 1px solid gray;flex-grow: 1;}#sk-b3510fa8-5849-40f9-962c-ff13f579295d div.sk-label:hover label.sk-toggleable__label {background-color: #d4ebff;}#sk-b3510fa8-5849-40f9-962c-ff13f579295d div.sk-serial::before {content: \"\";position: absolute;border-left: 1px solid gray;box-sizing: border-box;top: 2em;bottom: 0;left: 50%;}#sk-b3510fa8-5849-40f9-962c-ff13f579295d div.sk-serial {display: flex;flex-direction: column;align-items: center;background-color: white;padding-right: 0.2em;padding-left: 0.2em;}#sk-b3510fa8-5849-40f9-962c-ff13f579295d div.sk-item {z-index: 1;}#sk-b3510fa8-5849-40f9-962c-ff13f579295d div.sk-parallel {display: flex;align-items: stretch;justify-content: center;background-color: white;}#sk-b3510fa8-5849-40f9-962c-ff13f579295d div.sk-parallel::before {content: \"\";position: absolute;border-left: 1px solid gray;box-sizing: border-box;top: 2em;bottom: 0;left: 50%;}#sk-b3510fa8-5849-40f9-962c-ff13f579295d div.sk-parallel-item {display: flex;flex-direction: column;position: relative;background-color: white;}#sk-b3510fa8-5849-40f9-962c-ff13f579295d div.sk-parallel-item:first-child::after {align-self: flex-end;width: 50%;}#sk-b3510fa8-5849-40f9-962c-ff13f579295d div.sk-parallel-item:last-child::after {align-self: flex-start;width: 50%;}#sk-b3510fa8-5849-40f9-962c-ff13f579295d div.sk-parallel-item:only-child::after {width: 0;}#sk-b3510fa8-5849-40f9-962c-ff13f579295d div.sk-dashed-wrapped {border: 1px dashed gray;margin: 0 0.4em 0.5em 0.4em;box-sizing: border-box;padding-bottom: 0.4em;background-color: white;position: relative;}#sk-b3510fa8-5849-40f9-962c-ff13f579295d div.sk-label label {font-family: monospace;font-weight: bold;background-color: white;display: inline-block;line-height: 1.2em;}#sk-b3510fa8-5849-40f9-962c-ff13f579295d div.sk-label-container {position: relative;z-index: 2;text-align: center;}#sk-b3510fa8-5849-40f9-962c-ff13f579295d div.sk-container {/* jupyter's `normalize.less` sets `[hidden] { display: none; }` but bootstrap.min.css set `[hidden] { display: none !important; }` so we also need the `!important` here to be able to override the default hidden behavior on the sphinx rendered scikit-learn.org. See: https://github.com/scikit-learn/scikit-learn/issues/21755 */display: inline-block !important;position: relative;}#sk-b3510fa8-5849-40f9-962c-ff13f579295d div.sk-text-repr-fallback {display: none;}</style><div id=\"sk-b3510fa8-5849-40f9-962c-ff13f579295d\" class=\"sk-top-container\"><div class=\"sk-text-repr-fallback\"><pre>ColumnTransformer(transformers=[(&#x27;pipeline-1&#x27;,\n",
              "                                 Pipeline(steps=[(&#x27;simpleimputer&#x27;,\n",
              "                                                  SimpleImputer()),\n",
              "                                                 (&#x27;standardscaler&#x27;,\n",
              "                                                  StandardScaler())]),\n",
              "                                 &lt;sklearn.compose._column_transformer.make_column_selector object at 0x7f56977fe410&gt;),\n",
              "                                (&#x27;pipeline-2&#x27;,\n",
              "                                 Pipeline(steps=[(&#x27;simpleimputer&#x27;,\n",
              "                                                  SimpleImputer(strategy=&#x27;most_frequent&#x27;)),\n",
              "                                                 (&#x27;onehotencoder&#x27;,\n",
              "                                                  OneHotEncoder(handle_unknown=&#x27;ignore&#x27;,\n",
              "                                                                sparse=False))]),\n",
              "                                 &lt;sklearn.compose._column_transformer.make_column_selector object at 0x7f56977fe450&gt;)])</pre><b>Please rerun this cell to show the HTML repr or trust the notebook.</b></div><div class=\"sk-container\" hidden><div class=\"sk-item sk-dashed-wrapped\"><div class=\"sk-label-container\"><div class=\"sk-label sk-toggleable\"><input class=\"sk-toggleable__control sk-hidden--visually\" id=\"efb2db41-5741-47bb-9f5e-f1546bf69112\" type=\"checkbox\" ><label for=\"efb2db41-5741-47bb-9f5e-f1546bf69112\" class=\"sk-toggleable__label sk-toggleable__label-arrow\">ColumnTransformer</label><div class=\"sk-toggleable__content\"><pre>ColumnTransformer(transformers=[(&#x27;pipeline-1&#x27;,\n",
              "                                 Pipeline(steps=[(&#x27;simpleimputer&#x27;,\n",
              "                                                  SimpleImputer()),\n",
              "                                                 (&#x27;standardscaler&#x27;,\n",
              "                                                  StandardScaler())]),\n",
              "                                 &lt;sklearn.compose._column_transformer.make_column_selector object at 0x7f56977fe410&gt;),\n",
              "                                (&#x27;pipeline-2&#x27;,\n",
              "                                 Pipeline(steps=[(&#x27;simpleimputer&#x27;,\n",
              "                                                  SimpleImputer(strategy=&#x27;most_frequent&#x27;)),\n",
              "                                                 (&#x27;onehotencoder&#x27;,\n",
              "                                                  OneHotEncoder(handle_unknown=&#x27;ignore&#x27;,\n",
              "                                                                sparse=False))]),\n",
              "                                 &lt;sklearn.compose._column_transformer.make_column_selector object at 0x7f56977fe450&gt;)])</pre></div></div></div><div class=\"sk-parallel\"><div class=\"sk-parallel-item\"><div class=\"sk-item\"><div class=\"sk-label-container\"><div class=\"sk-label sk-toggleable\"><input class=\"sk-toggleable__control sk-hidden--visually\" id=\"40900282-60d3-418f-a3e8-cd7a586860a0\" type=\"checkbox\" ><label for=\"40900282-60d3-418f-a3e8-cd7a586860a0\" class=\"sk-toggleable__label sk-toggleable__label-arrow\">pipeline-1</label><div class=\"sk-toggleable__content\"><pre>&lt;sklearn.compose._column_transformer.make_column_selector object at 0x7f56977fe410&gt;</pre></div></div></div><div class=\"sk-serial\"><div class=\"sk-item\"><div class=\"sk-serial\"><div class=\"sk-item\"><div class=\"sk-estimator sk-toggleable\"><input class=\"sk-toggleable__control sk-hidden--visually\" id=\"173c3602-ca2d-4166-acac-4160e51e8696\" type=\"checkbox\" ><label for=\"173c3602-ca2d-4166-acac-4160e51e8696\" class=\"sk-toggleable__label sk-toggleable__label-arrow\">SimpleImputer</label><div class=\"sk-toggleable__content\"><pre>SimpleImputer()</pre></div></div></div><div class=\"sk-item\"><div class=\"sk-estimator sk-toggleable\"><input class=\"sk-toggleable__control sk-hidden--visually\" id=\"ba703b49-ef1b-4e3a-ab38-e43658a43257\" type=\"checkbox\" ><label for=\"ba703b49-ef1b-4e3a-ab38-e43658a43257\" class=\"sk-toggleable__label sk-toggleable__label-arrow\">StandardScaler</label><div class=\"sk-toggleable__content\"><pre>StandardScaler()</pre></div></div></div></div></div></div></div></div><div class=\"sk-parallel-item\"><div class=\"sk-item\"><div class=\"sk-label-container\"><div class=\"sk-label sk-toggleable\"><input class=\"sk-toggleable__control sk-hidden--visually\" id=\"3fa629c0-2556-4466-8022-a28c8c4e744e\" type=\"checkbox\" ><label for=\"3fa629c0-2556-4466-8022-a28c8c4e744e\" class=\"sk-toggleable__label sk-toggleable__label-arrow\">pipeline-2</label><div class=\"sk-toggleable__content\"><pre>&lt;sklearn.compose._column_transformer.make_column_selector object at 0x7f56977fe450&gt;</pre></div></div></div><div class=\"sk-serial\"><div class=\"sk-item\"><div class=\"sk-serial\"><div class=\"sk-item\"><div class=\"sk-estimator sk-toggleable\"><input class=\"sk-toggleable__control sk-hidden--visually\" id=\"08951082-1e46-4629-b4d2-8764ebb606f6\" type=\"checkbox\" ><label for=\"08951082-1e46-4629-b4d2-8764ebb606f6\" class=\"sk-toggleable__label sk-toggleable__label-arrow\">SimpleImputer</label><div class=\"sk-toggleable__content\"><pre>SimpleImputer(strategy=&#x27;most_frequent&#x27;)</pre></div></div></div><div class=\"sk-item\"><div class=\"sk-estimator sk-toggleable\"><input class=\"sk-toggleable__control sk-hidden--visually\" id=\"03069376-cf3c-464a-bf61-398b8d63237c\" type=\"checkbox\" ><label for=\"03069376-cf3c-464a-bf61-398b8d63237c\" class=\"sk-toggleable__label sk-toggleable__label-arrow\">OneHotEncoder</label><div class=\"sk-toggleable__content\"><pre>OneHotEncoder(handle_unknown=&#x27;ignore&#x27;, sparse=False)</pre></div></div></div></div></div></div></div></div></div></div></div></div>"
            ]
          },
          "metadata": {},
          "execution_count": 37
        }
      ]
    },
    {
      "cell_type": "code",
      "source": [
        "#Ahora se trasforma los conjuntos de datos de entrenamiento y prueba\n",
        "X_train_processed= preprocessor.transform(X_train)\n",
        "X_test_processed= preprocessor.transform(X_test)"
      ],
      "metadata": {
        "id": "ytkvIORq5xKw"
      },
      "execution_count": 38,
      "outputs": []
    },
    {
      "cell_type": "markdown",
      "source": [
        "* missing values in training data : valores faltantes en los datos de entrenamiento\n",
        "\n",
        "* missing values in testing data : valores faltantes en los datos de prueba"
      ],
      "metadata": {
        "id": "C_I77Mhg7Qq-"
      }
    },
    {
      "cell_type": "code",
      "source": [
        "#Muestren los arrays de NumPy resultantes.\n",
        "print(np.isnan(X_train_processed).sum().sum(), 'missing values in training data')\n",
        "print(np.isnan(X_test_processed).sum().sum(), 'missing values in testing data')\n",
        "print('\\n')\n",
        "print('All data in X_train_processed are', X_train_processed.dtype)\n",
        "print('All data in X_train_processed are', X_test_processed.dtype)\n",
        "print('\\n')\n",
        "print('shape of data is', X_train_processed.shape)\n",
        "print('\\n')\n",
        "X_train_processed"
      ],
      "metadata": {
        "colab": {
          "base_uri": "https://localhost:8080/"
        },
        "id": "NsLDcRUD6dz1",
        "outputId": "5174cb8c-aca9-403c-9ace-b0bd189956df"
      },
      "execution_count": 39,
      "outputs": [
        {
          "output_type": "stream",
          "name": "stdout",
          "text": [
            "0 missing values in training data\n",
            "0 missing values in testing data\n",
            "\n",
            "\n",
            "All data in X_train_processed are float64\n",
            "All data in X_train_processed are float64\n",
            "\n",
            "\n",
            "shape of data is (57, 77)\n",
            "\n",
            "\n"
          ]
        },
        {
          "output_type": "execute_result",
          "data": {
            "text/plain": [
              "array([[-1.30301442, -0.97467943,  0.56162348, ...,  0.        ,\n",
              "         1.        ,  0.        ],\n",
              "       [ 0.40438378,  0.        ,  0.68120871, ...,  0.        ,\n",
              "         1.        ,  0.        ],\n",
              "       [ 0.40438378, -0.97467943,  1.99664622, ...,  0.        ,\n",
              "         1.        ,  0.        ],\n",
              "       ...,\n",
              "       [ 1.25808288,  1.94935887, -0.03630266, ...,  1.        ,\n",
              "         1.        ,  0.        ],\n",
              "       [ 0.40438378,  0.97467943, -0.15588789, ...,  0.        ,\n",
              "         1.        ,  0.        ],\n",
              "       [ 0.40438378,  0.        ,  0.08328257, ...,  0.        ,\n",
              "         1.        ,  0.        ]])"
            ]
          },
          "metadata": {},
          "execution_count": 39
        }
      ]
    }
  ]
}