{
  "nbformat": 4,
  "nbformat_minor": 0,
  "metadata": {
    "colab": {
      "provenance": [],
      "mount_file_id": "1rYcgvdIVz63z-uJQNVZt18AuX7Sh4F_4",
      "authorship_tag": "ABX9TyPITwezwDybC5fs2PF5rLnQ"
    },
    "kernelspec": {
      "name": "python3",
      "display_name": "Python 3"
    },
    "language_info": {
      "name": "python"
    }
  },
  "cells": [
    {
      "cell_type": "markdown",
      "source": [
        "* Utilicen el conjunto de datos de abulones para predecir el número de anillos a partir de los medicamentos físicos que utilizan la regresión lineal."
      ],
      "metadata": {
        "id": "zWaoCKA1vBfY"
      }
    },
    {
      "cell_type": "code",
      "execution_count": 2,
      "metadata": {
        "id": "i-yZO9WUu7QY"
      },
      "outputs": [],
      "source": [
        "#Importar librerias\n",
        "import pandas as pd\n",
        "import numpy as np "
      ]
    },
    {
      "cell_type": "code",
      "source": [
        "#lectura de archivo \n",
        "dt=pd.read_csv('/content/drive/MyDrive/Semestre 2022-2/CODING_DOJO_DS/Machine_Learning/abalone.data', header=None)\n",
        "dt.columns=['Sex','Length[mm]','Diameter[mm]','Height[mm]','Whole weight[grams]','Shucked weight[grams]','Viscera weight[grams]','Shell weight[grams]','Rings']\n",
        "dt"
      ],
      "metadata": {
        "colab": {
          "base_uri": "https://localhost:8080/",
          "height": 423
        },
        "id": "BlQPjNiTvSta",
        "outputId": "057c5661-50a2-49f9-d751-cfbd3e432ff4"
      },
      "execution_count": 38,
      "outputs": [
        {
          "output_type": "execute_result",
          "data": {
            "text/plain": [
              "     Sex  Length[mm]  Diameter[mm]  Height[mm]  Whole weight[grams]  \\\n",
              "0      M       0.455         0.365       0.095               0.5140   \n",
              "1      M       0.350         0.265       0.090               0.2255   \n",
              "2      F       0.530         0.420       0.135               0.6770   \n",
              "3      M       0.440         0.365       0.125               0.5160   \n",
              "4      I       0.330         0.255       0.080               0.2050   \n",
              "...   ..         ...           ...         ...                  ...   \n",
              "4172   F       0.565         0.450       0.165               0.8870   \n",
              "4173   M       0.590         0.440       0.135               0.9660   \n",
              "4174   M       0.600         0.475       0.205               1.1760   \n",
              "4175   F       0.625         0.485       0.150               1.0945   \n",
              "4176   M       0.710         0.555       0.195               1.9485   \n",
              "\n",
              "      Shucked weight[grams]  Viscera weight[grams]  Shell weight[grams]  Rings  \n",
              "0                    0.2245                 0.1010               0.1500     15  \n",
              "1                    0.0995                 0.0485               0.0700      7  \n",
              "2                    0.2565                 0.1415               0.2100      9  \n",
              "3                    0.2155                 0.1140               0.1550     10  \n",
              "4                    0.0895                 0.0395               0.0550      7  \n",
              "...                     ...                    ...                  ...    ...  \n",
              "4172                 0.3700                 0.2390               0.2490     11  \n",
              "4173                 0.4390                 0.2145               0.2605     10  \n",
              "4174                 0.5255                 0.2875               0.3080      9  \n",
              "4175                 0.5310                 0.2610               0.2960     10  \n",
              "4176                 0.9455                 0.3765               0.4950     12  \n",
              "\n",
              "[4177 rows x 9 columns]"
            ],
            "text/html": [
              "\n",
              "  <div id=\"df-10497357-75ab-48ec-94a9-fba32ae58404\">\n",
              "    <div class=\"colab-df-container\">\n",
              "      <div>\n",
              "<style scoped>\n",
              "    .dataframe tbody tr th:only-of-type {\n",
              "        vertical-align: middle;\n",
              "    }\n",
              "\n",
              "    .dataframe tbody tr th {\n",
              "        vertical-align: top;\n",
              "    }\n",
              "\n",
              "    .dataframe thead th {\n",
              "        text-align: right;\n",
              "    }\n",
              "</style>\n",
              "<table border=\"1\" class=\"dataframe\">\n",
              "  <thead>\n",
              "    <tr style=\"text-align: right;\">\n",
              "      <th></th>\n",
              "      <th>Sex</th>\n",
              "      <th>Length[mm]</th>\n",
              "      <th>Diameter[mm]</th>\n",
              "      <th>Height[mm]</th>\n",
              "      <th>Whole weight[grams]</th>\n",
              "      <th>Shucked weight[grams]</th>\n",
              "      <th>Viscera weight[grams]</th>\n",
              "      <th>Shell weight[grams]</th>\n",
              "      <th>Rings</th>\n",
              "    </tr>\n",
              "  </thead>\n",
              "  <tbody>\n",
              "    <tr>\n",
              "      <th>0</th>\n",
              "      <td>M</td>\n",
              "      <td>0.455</td>\n",
              "      <td>0.365</td>\n",
              "      <td>0.095</td>\n",
              "      <td>0.5140</td>\n",
              "      <td>0.2245</td>\n",
              "      <td>0.1010</td>\n",
              "      <td>0.1500</td>\n",
              "      <td>15</td>\n",
              "    </tr>\n",
              "    <tr>\n",
              "      <th>1</th>\n",
              "      <td>M</td>\n",
              "      <td>0.350</td>\n",
              "      <td>0.265</td>\n",
              "      <td>0.090</td>\n",
              "      <td>0.2255</td>\n",
              "      <td>0.0995</td>\n",
              "      <td>0.0485</td>\n",
              "      <td>0.0700</td>\n",
              "      <td>7</td>\n",
              "    </tr>\n",
              "    <tr>\n",
              "      <th>2</th>\n",
              "      <td>F</td>\n",
              "      <td>0.530</td>\n",
              "      <td>0.420</td>\n",
              "      <td>0.135</td>\n",
              "      <td>0.6770</td>\n",
              "      <td>0.2565</td>\n",
              "      <td>0.1415</td>\n",
              "      <td>0.2100</td>\n",
              "      <td>9</td>\n",
              "    </tr>\n",
              "    <tr>\n",
              "      <th>3</th>\n",
              "      <td>M</td>\n",
              "      <td>0.440</td>\n",
              "      <td>0.365</td>\n",
              "      <td>0.125</td>\n",
              "      <td>0.5160</td>\n",
              "      <td>0.2155</td>\n",
              "      <td>0.1140</td>\n",
              "      <td>0.1550</td>\n",
              "      <td>10</td>\n",
              "    </tr>\n",
              "    <tr>\n",
              "      <th>4</th>\n",
              "      <td>I</td>\n",
              "      <td>0.330</td>\n",
              "      <td>0.255</td>\n",
              "      <td>0.080</td>\n",
              "      <td>0.2050</td>\n",
              "      <td>0.0895</td>\n",
              "      <td>0.0395</td>\n",
              "      <td>0.0550</td>\n",
              "      <td>7</td>\n",
              "    </tr>\n",
              "    <tr>\n",
              "      <th>...</th>\n",
              "      <td>...</td>\n",
              "      <td>...</td>\n",
              "      <td>...</td>\n",
              "      <td>...</td>\n",
              "      <td>...</td>\n",
              "      <td>...</td>\n",
              "      <td>...</td>\n",
              "      <td>...</td>\n",
              "      <td>...</td>\n",
              "    </tr>\n",
              "    <tr>\n",
              "      <th>4172</th>\n",
              "      <td>F</td>\n",
              "      <td>0.565</td>\n",
              "      <td>0.450</td>\n",
              "      <td>0.165</td>\n",
              "      <td>0.8870</td>\n",
              "      <td>0.3700</td>\n",
              "      <td>0.2390</td>\n",
              "      <td>0.2490</td>\n",
              "      <td>11</td>\n",
              "    </tr>\n",
              "    <tr>\n",
              "      <th>4173</th>\n",
              "      <td>M</td>\n",
              "      <td>0.590</td>\n",
              "      <td>0.440</td>\n",
              "      <td>0.135</td>\n",
              "      <td>0.9660</td>\n",
              "      <td>0.4390</td>\n",
              "      <td>0.2145</td>\n",
              "      <td>0.2605</td>\n",
              "      <td>10</td>\n",
              "    </tr>\n",
              "    <tr>\n",
              "      <th>4174</th>\n",
              "      <td>M</td>\n",
              "      <td>0.600</td>\n",
              "      <td>0.475</td>\n",
              "      <td>0.205</td>\n",
              "      <td>1.1760</td>\n",
              "      <td>0.5255</td>\n",
              "      <td>0.2875</td>\n",
              "      <td>0.3080</td>\n",
              "      <td>9</td>\n",
              "    </tr>\n",
              "    <tr>\n",
              "      <th>4175</th>\n",
              "      <td>F</td>\n",
              "      <td>0.625</td>\n",
              "      <td>0.485</td>\n",
              "      <td>0.150</td>\n",
              "      <td>1.0945</td>\n",
              "      <td>0.5310</td>\n",
              "      <td>0.2610</td>\n",
              "      <td>0.2960</td>\n",
              "      <td>10</td>\n",
              "    </tr>\n",
              "    <tr>\n",
              "      <th>4176</th>\n",
              "      <td>M</td>\n",
              "      <td>0.710</td>\n",
              "      <td>0.555</td>\n",
              "      <td>0.195</td>\n",
              "      <td>1.9485</td>\n",
              "      <td>0.9455</td>\n",
              "      <td>0.3765</td>\n",
              "      <td>0.4950</td>\n",
              "      <td>12</td>\n",
              "    </tr>\n",
              "  </tbody>\n",
              "</table>\n",
              "<p>4177 rows × 9 columns</p>\n",
              "</div>\n",
              "      <button class=\"colab-df-convert\" onclick=\"convertToInteractive('df-10497357-75ab-48ec-94a9-fba32ae58404')\"\n",
              "              title=\"Convert this dataframe to an interactive table.\"\n",
              "              style=\"display:none;\">\n",
              "        \n",
              "  <svg xmlns=\"http://www.w3.org/2000/svg\" height=\"24px\"viewBox=\"0 0 24 24\"\n",
              "       width=\"24px\">\n",
              "    <path d=\"M0 0h24v24H0V0z\" fill=\"none\"/>\n",
              "    <path d=\"M18.56 5.44l.94 2.06.94-2.06 2.06-.94-2.06-.94-.94-2.06-.94 2.06-2.06.94zm-11 1L8.5 8.5l.94-2.06 2.06-.94-2.06-.94L8.5 2.5l-.94 2.06-2.06.94zm10 10l.94 2.06.94-2.06 2.06-.94-2.06-.94-.94-2.06-.94 2.06-2.06.94z\"/><path d=\"M17.41 7.96l-1.37-1.37c-.4-.4-.92-.59-1.43-.59-.52 0-1.04.2-1.43.59L10.3 9.45l-7.72 7.72c-.78.78-.78 2.05 0 2.83L4 21.41c.39.39.9.59 1.41.59.51 0 1.02-.2 1.41-.59l7.78-7.78 2.81-2.81c.8-.78.8-2.07 0-2.86zM5.41 20L4 18.59l7.72-7.72 1.47 1.35L5.41 20z\"/>\n",
              "  </svg>\n",
              "      </button>\n",
              "      \n",
              "  <style>\n",
              "    .colab-df-container {\n",
              "      display:flex;\n",
              "      flex-wrap:wrap;\n",
              "      gap: 12px;\n",
              "    }\n",
              "\n",
              "    .colab-df-convert {\n",
              "      background-color: #E8F0FE;\n",
              "      border: none;\n",
              "      border-radius: 50%;\n",
              "      cursor: pointer;\n",
              "      display: none;\n",
              "      fill: #1967D2;\n",
              "      height: 32px;\n",
              "      padding: 0 0 0 0;\n",
              "      width: 32px;\n",
              "    }\n",
              "\n",
              "    .colab-df-convert:hover {\n",
              "      background-color: #E2EBFA;\n",
              "      box-shadow: 0px 1px 2px rgba(60, 64, 67, 0.3), 0px 1px 3px 1px rgba(60, 64, 67, 0.15);\n",
              "      fill: #174EA6;\n",
              "    }\n",
              "\n",
              "    [theme=dark] .colab-df-convert {\n",
              "      background-color: #3B4455;\n",
              "      fill: #D2E3FC;\n",
              "    }\n",
              "\n",
              "    [theme=dark] .colab-df-convert:hover {\n",
              "      background-color: #434B5C;\n",
              "      box-shadow: 0px 1px 3px 1px rgba(0, 0, 0, 0.15);\n",
              "      filter: drop-shadow(0px 1px 2px rgba(0, 0, 0, 0.3));\n",
              "      fill: #FFFFFF;\n",
              "    }\n",
              "  </style>\n",
              "\n",
              "      <script>\n",
              "        const buttonEl =\n",
              "          document.querySelector('#df-10497357-75ab-48ec-94a9-fba32ae58404 button.colab-df-convert');\n",
              "        buttonEl.style.display =\n",
              "          google.colab.kernel.accessAllowed ? 'block' : 'none';\n",
              "\n",
              "        async function convertToInteractive(key) {\n",
              "          const element = document.querySelector('#df-10497357-75ab-48ec-94a9-fba32ae58404');\n",
              "          const dataTable =\n",
              "            await google.colab.kernel.invokeFunction('convertToInteractive',\n",
              "                                                     [key], {});\n",
              "          if (!dataTable) return;\n",
              "\n",
              "          const docLinkHtml = 'Like what you see? Visit the ' +\n",
              "            '<a target=\"_blank\" href=https://colab.research.google.com/notebooks/data_table.ipynb>data table notebook</a>'\n",
              "            + ' to learn more about interactive tables.';\n",
              "          element.innerHTML = '';\n",
              "          dataTable['output_type'] = 'display_data';\n",
              "          await google.colab.output.renderOutput(dataTable, element);\n",
              "          const docLink = document.createElement('div');\n",
              "          docLink.innerHTML = docLinkHtml;\n",
              "          element.appendChild(docLink);\n",
              "        }\n",
              "      </script>\n",
              "    </div>\n",
              "  </div>\n",
              "  "
            ]
          },
          "metadata": {},
          "execution_count": 38
        }
      ]
    },
    {
      "cell_type": "code",
      "source": [
        "dt['Sex'].value_counts()"
      ],
      "metadata": {
        "colab": {
          "base_uri": "https://localhost:8080/"
        },
        "id": "f0Y_MzXJ8sQ5",
        "outputId": "97d118ef-9579-4ae4-a285-07754b94e983"
      },
      "execution_count": 39,
      "outputs": [
        {
          "output_type": "execute_result",
          "data": {
            "text/plain": [
              "M    1528\n",
              "I    1342\n",
              "F    1307\n",
              "Name: Sex, dtype: int64"
            ]
          },
          "metadata": {},
          "execution_count": 39
        }
      ]
    },
    {
      "cell_type": "code",
      "source": [
        "dt.dtypes"
      ],
      "metadata": {
        "colab": {
          "base_uri": "https://localhost:8080/"
        },
        "id": "Yr-3VjiW1K_2",
        "outputId": "c90bf20f-e9a8-4412-ef22-c1d233393eed"
      },
      "execution_count": 27,
      "outputs": [
        {
          "output_type": "execute_result",
          "data": {
            "text/plain": [
              "Sex                       object\n",
              "Length[mm]               float64\n",
              "Diameter[mm]             float64\n",
              "Height[mm]               float64\n",
              "Whole weight[grams]      float64\n",
              "Shucked weight[grams]    float64\n",
              "Viscera weight[grams]    float64\n",
              "Shell weight[grams]      float64\n",
              "Rings                      int64\n",
              "dtype: object"
            ]
          },
          "metadata": {},
          "execution_count": 27
        }
      ]
    },
    {
      "cell_type": "code",
      "source": [
        "dt.isna().sum()"
      ],
      "metadata": {
        "colab": {
          "base_uri": "https://localhost:8080/"
        },
        "id": "HD7OGzpV1LFN",
        "outputId": "3f15a9a7-5ce9-4a58-aa69-11020e4d4238"
      },
      "execution_count": 32,
      "outputs": [
        {
          "output_type": "execute_result",
          "data": {
            "text/plain": [
              "Sex                      0\n",
              "Length[mm]               0\n",
              "Diameter[mm]             0\n",
              "Height[mm]               0\n",
              "Whole weight[grams]      0\n",
              "Shucked weight[grams]    0\n",
              "Viscera weight[grams]    0\n",
              "Shell weight[grams]      0\n",
              "Rings                    0\n",
              "dtype: int64"
            ]
          },
          "metadata": {},
          "execution_count": 32
        }
      ]
    },
    {
      "cell_type": "code",
      "source": [
        "dt.duplicated().sum() "
      ],
      "metadata": {
        "colab": {
          "base_uri": "https://localhost:8080/"
        },
        "id": "shWcrriR18cl",
        "outputId": "e01b4931-c02d-4a9b-97be-cced76158ba9"
      },
      "execution_count": 31,
      "outputs": [
        {
          "output_type": "execute_result",
          "data": {
            "text/plain": [
              "0"
            ]
          },
          "metadata": {},
          "execution_count": 31
        }
      ]
    },
    {
      "cell_type": "code",
      "source": [
        "dt['Sex'].value_counts()"
      ],
      "metadata": {
        "colab": {
          "base_uri": "https://localhost:8080/"
        },
        "id": "sWA18sdp8YHh",
        "outputId": "3a3af830-10de-477c-b2d4-52a18b5af5f7"
      },
      "execution_count": 37,
      "outputs": [
        {
          "output_type": "execute_result",
          "data": {
            "text/plain": [
              "1.0    1528\n",
              "0.0    1307\n",
              "Name: Sex, dtype: int64"
            ]
          },
          "metadata": {},
          "execution_count": 37
        }
      ]
    },
    {
      "cell_type": "code",
      "source": [
        "dt['Sex']=dt.Sex.map({'M':0,'F':1,'I':2})"
      ],
      "metadata": {
        "id": "HzeSPVKX7Uwr"
      },
      "execution_count": 40,
      "outputs": []
    },
    {
      "cell_type": "code",
      "source": [
        "from sklearn.model_selection import train_test_split"
      ],
      "metadata": {
        "id": "vByOGgtY_PwO"
      },
      "execution_count": 44,
      "outputs": []
    },
    {
      "cell_type": "code",
      "source": [
        "#Separar los datos en una matriz de características (X) y un vector objetivo (y).\n",
        "X=dt.drop(columns=['Rings'])\n",
        "y=dt['Rings']\n",
        "#Crear un split de prueba de tren en los datos. Utilicen un número ocasional 42 por coherencia.\n",
        "X_train, X_test, y_train, y_test = train_test_split(X, y, random_state=42)"
      ],
      "metadata": {
        "id": "zhIOqoIy2U9s"
      },
      "execution_count": 45,
      "outputs": []
    },
    {
      "cell_type": "code",
      "source": [
        "X_train.describe()"
      ],
      "metadata": {
        "colab": {
          "base_uri": "https://localhost:8080/",
          "height": 300
        },
        "id": "EA9mq1F3DudM",
        "outputId": "b73e4571-8126-4f6e-82e9-d22bdb7d2b7d"
      },
      "execution_count": 47,
      "outputs": [
        {
          "output_type": "execute_result",
          "data": {
            "text/plain": [
              "               Sex   Length[mm]  Diameter[mm]   Height[mm]  \\\n",
              "count  3132.000000  3132.000000   3132.000000  3132.000000   \n",
              "mean      0.949872     0.525750      0.409254     0.140070   \n",
              "std       0.825405     0.119131      0.098557     0.042661   \n",
              "min       0.000000     0.075000      0.055000     0.000000   \n",
              "25%       0.000000     0.450000      0.350000     0.115000   \n",
              "50%       1.000000     0.545000      0.425000     0.145000   \n",
              "75%       2.000000     0.615000      0.480000     0.165000   \n",
              "max       2.000000     0.815000      0.650000     1.130000   \n",
              "\n",
              "       Whole weight[grams]  Shucked weight[grams]  Viscera weight[grams]  \\\n",
              "count          3132.000000            3132.000000            3132.000000   \n",
              "mean              0.834224               0.362219               0.181684   \n",
              "std               0.491449               0.223000               0.109317   \n",
              "min               0.002000               0.001000               0.000500   \n",
              "25%               0.444000               0.187000               0.093500   \n",
              "50%               0.804500               0.339500               0.171750   \n",
              "75%               1.156750               0.506500               0.255000   \n",
              "max               2.825500               1.488000               0.760000   \n",
              "\n",
              "       Shell weight[grams]  \n",
              "count          3132.000000  \n",
              "mean              0.240351  \n",
              "std               0.139567  \n",
              "min               0.001500  \n",
              "25%               0.130000  \n",
              "50%               0.235000  \n",
              "75%               0.330000  \n",
              "max               1.005000  "
            ],
            "text/html": [
              "\n",
              "  <div id=\"df-a73e4530-0c4a-470b-bd3b-aeffd70340b8\">\n",
              "    <div class=\"colab-df-container\">\n",
              "      <div>\n",
              "<style scoped>\n",
              "    .dataframe tbody tr th:only-of-type {\n",
              "        vertical-align: middle;\n",
              "    }\n",
              "\n",
              "    .dataframe tbody tr th {\n",
              "        vertical-align: top;\n",
              "    }\n",
              "\n",
              "    .dataframe thead th {\n",
              "        text-align: right;\n",
              "    }\n",
              "</style>\n",
              "<table border=\"1\" class=\"dataframe\">\n",
              "  <thead>\n",
              "    <tr style=\"text-align: right;\">\n",
              "      <th></th>\n",
              "      <th>Sex</th>\n",
              "      <th>Length[mm]</th>\n",
              "      <th>Diameter[mm]</th>\n",
              "      <th>Height[mm]</th>\n",
              "      <th>Whole weight[grams]</th>\n",
              "      <th>Shucked weight[grams]</th>\n",
              "      <th>Viscera weight[grams]</th>\n",
              "      <th>Shell weight[grams]</th>\n",
              "    </tr>\n",
              "  </thead>\n",
              "  <tbody>\n",
              "    <tr>\n",
              "      <th>count</th>\n",
              "      <td>3132.000000</td>\n",
              "      <td>3132.000000</td>\n",
              "      <td>3132.000000</td>\n",
              "      <td>3132.000000</td>\n",
              "      <td>3132.000000</td>\n",
              "      <td>3132.000000</td>\n",
              "      <td>3132.000000</td>\n",
              "      <td>3132.000000</td>\n",
              "    </tr>\n",
              "    <tr>\n",
              "      <th>mean</th>\n",
              "      <td>0.949872</td>\n",
              "      <td>0.525750</td>\n",
              "      <td>0.409254</td>\n",
              "      <td>0.140070</td>\n",
              "      <td>0.834224</td>\n",
              "      <td>0.362219</td>\n",
              "      <td>0.181684</td>\n",
              "      <td>0.240351</td>\n",
              "    </tr>\n",
              "    <tr>\n",
              "      <th>std</th>\n",
              "      <td>0.825405</td>\n",
              "      <td>0.119131</td>\n",
              "      <td>0.098557</td>\n",
              "      <td>0.042661</td>\n",
              "      <td>0.491449</td>\n",
              "      <td>0.223000</td>\n",
              "      <td>0.109317</td>\n",
              "      <td>0.139567</td>\n",
              "    </tr>\n",
              "    <tr>\n",
              "      <th>min</th>\n",
              "      <td>0.000000</td>\n",
              "      <td>0.075000</td>\n",
              "      <td>0.055000</td>\n",
              "      <td>0.000000</td>\n",
              "      <td>0.002000</td>\n",
              "      <td>0.001000</td>\n",
              "      <td>0.000500</td>\n",
              "      <td>0.001500</td>\n",
              "    </tr>\n",
              "    <tr>\n",
              "      <th>25%</th>\n",
              "      <td>0.000000</td>\n",
              "      <td>0.450000</td>\n",
              "      <td>0.350000</td>\n",
              "      <td>0.115000</td>\n",
              "      <td>0.444000</td>\n",
              "      <td>0.187000</td>\n",
              "      <td>0.093500</td>\n",
              "      <td>0.130000</td>\n",
              "    </tr>\n",
              "    <tr>\n",
              "      <th>50%</th>\n",
              "      <td>1.000000</td>\n",
              "      <td>0.545000</td>\n",
              "      <td>0.425000</td>\n",
              "      <td>0.145000</td>\n",
              "      <td>0.804500</td>\n",
              "      <td>0.339500</td>\n",
              "      <td>0.171750</td>\n",
              "      <td>0.235000</td>\n",
              "    </tr>\n",
              "    <tr>\n",
              "      <th>75%</th>\n",
              "      <td>2.000000</td>\n",
              "      <td>0.615000</td>\n",
              "      <td>0.480000</td>\n",
              "      <td>0.165000</td>\n",
              "      <td>1.156750</td>\n",
              "      <td>0.506500</td>\n",
              "      <td>0.255000</td>\n",
              "      <td>0.330000</td>\n",
              "    </tr>\n",
              "    <tr>\n",
              "      <th>max</th>\n",
              "      <td>2.000000</td>\n",
              "      <td>0.815000</td>\n",
              "      <td>0.650000</td>\n",
              "      <td>1.130000</td>\n",
              "      <td>2.825500</td>\n",
              "      <td>1.488000</td>\n",
              "      <td>0.760000</td>\n",
              "      <td>1.005000</td>\n",
              "    </tr>\n",
              "  </tbody>\n",
              "</table>\n",
              "</div>\n",
              "      <button class=\"colab-df-convert\" onclick=\"convertToInteractive('df-a73e4530-0c4a-470b-bd3b-aeffd70340b8')\"\n",
              "              title=\"Convert this dataframe to an interactive table.\"\n",
              "              style=\"display:none;\">\n",
              "        \n",
              "  <svg xmlns=\"http://www.w3.org/2000/svg\" height=\"24px\"viewBox=\"0 0 24 24\"\n",
              "       width=\"24px\">\n",
              "    <path d=\"M0 0h24v24H0V0z\" fill=\"none\"/>\n",
              "    <path d=\"M18.56 5.44l.94 2.06.94-2.06 2.06-.94-2.06-.94-.94-2.06-.94 2.06-2.06.94zm-11 1L8.5 8.5l.94-2.06 2.06-.94-2.06-.94L8.5 2.5l-.94 2.06-2.06.94zm10 10l.94 2.06.94-2.06 2.06-.94-2.06-.94-.94-2.06-.94 2.06-2.06.94z\"/><path d=\"M17.41 7.96l-1.37-1.37c-.4-.4-.92-.59-1.43-.59-.52 0-1.04.2-1.43.59L10.3 9.45l-7.72 7.72c-.78.78-.78 2.05 0 2.83L4 21.41c.39.39.9.59 1.41.59.51 0 1.02-.2 1.41-.59l7.78-7.78 2.81-2.81c.8-.78.8-2.07 0-2.86zM5.41 20L4 18.59l7.72-7.72 1.47 1.35L5.41 20z\"/>\n",
              "  </svg>\n",
              "      </button>\n",
              "      \n",
              "  <style>\n",
              "    .colab-df-container {\n",
              "      display:flex;\n",
              "      flex-wrap:wrap;\n",
              "      gap: 12px;\n",
              "    }\n",
              "\n",
              "    .colab-df-convert {\n",
              "      background-color: #E8F0FE;\n",
              "      border: none;\n",
              "      border-radius: 50%;\n",
              "      cursor: pointer;\n",
              "      display: none;\n",
              "      fill: #1967D2;\n",
              "      height: 32px;\n",
              "      padding: 0 0 0 0;\n",
              "      width: 32px;\n",
              "    }\n",
              "\n",
              "    .colab-df-convert:hover {\n",
              "      background-color: #E2EBFA;\n",
              "      box-shadow: 0px 1px 2px rgba(60, 64, 67, 0.3), 0px 1px 3px 1px rgba(60, 64, 67, 0.15);\n",
              "      fill: #174EA6;\n",
              "    }\n",
              "\n",
              "    [theme=dark] .colab-df-convert {\n",
              "      background-color: #3B4455;\n",
              "      fill: #D2E3FC;\n",
              "    }\n",
              "\n",
              "    [theme=dark] .colab-df-convert:hover {\n",
              "      background-color: #434B5C;\n",
              "      box-shadow: 0px 1px 3px 1px rgba(0, 0, 0, 0.15);\n",
              "      filter: drop-shadow(0px 1px 2px rgba(0, 0, 0, 0.3));\n",
              "      fill: #FFFFFF;\n",
              "    }\n",
              "  </style>\n",
              "\n",
              "      <script>\n",
              "        const buttonEl =\n",
              "          document.querySelector('#df-a73e4530-0c4a-470b-bd3b-aeffd70340b8 button.colab-df-convert');\n",
              "        buttonEl.style.display =\n",
              "          google.colab.kernel.accessAllowed ? 'block' : 'none';\n",
              "\n",
              "        async function convertToInteractive(key) {\n",
              "          const element = document.querySelector('#df-a73e4530-0c4a-470b-bd3b-aeffd70340b8');\n",
              "          const dataTable =\n",
              "            await google.colab.kernel.invokeFunction('convertToInteractive',\n",
              "                                                     [key], {});\n",
              "          if (!dataTable) return;\n",
              "\n",
              "          const docLinkHtml = 'Like what you see? Visit the ' +\n",
              "            '<a target=\"_blank\" href=https://colab.research.google.com/notebooks/data_table.ipynb>data table notebook</a>'\n",
              "            + ' to learn more about interactive tables.';\n",
              "          element.innerHTML = '';\n",
              "          dataTable['output_type'] = 'display_data';\n",
              "          await google.colab.output.renderOutput(dataTable, element);\n",
              "          const docLink = document.createElement('div');\n",
              "          docLink.innerHTML = docLinkHtml;\n",
              "          element.appendChild(docLink);\n",
              "        }\n",
              "      </script>\n",
              "    </div>\n",
              "  </div>\n",
              "  "
            ]
          },
          "metadata": {},
          "execution_count": 47
        }
      ]
    },
    {
      "cell_type": "code",
      "source": [
        "#Utilizar transformadores de columna para transformar las columnas adecuadas\n",
        "from sklearn.compose import make_column_selector, make_column_transformer"
      ],
      "metadata": {
        "id": "DEs4KRrx_XZj"
      },
      "execution_count": 48,
      "outputs": []
    },
    {
      "cell_type": "code",
      "source": [
        "#Usar selectores de columnas para seleccionar las columnas categóricas y las columnas numéricas\n",
        "cat_selector = make_column_selector(dtype_include='object')\n",
        "num_selector = make_column_selector(dtype_include='number')"
      ],
      "metadata": {
        "id": "VJNFgglfHOpO"
      },
      "execution_count": 49,
      "outputs": []
    },
    {
      "cell_type": "code",
      "source": [
        "#Usar un OneHotEncoder para codificar las columnas categóricas\n",
        "#Usar StandardScaler para escalar columnas numéricas\n",
        "from sklearn.preprocessing import StandardScaler, OneHotEncoder"
      ],
      "metadata": {
        "id": "bBbGSqaRHa_0"
      },
      "execution_count": 50,
      "outputs": []
    },
    {
      "cell_type": "code",
      "source": [
        "scaler = StandardScaler()\n",
        "ohe = OneHotEncoder(handle_unknown='ignore')"
      ],
      "metadata": {
        "id": "C-dqBcrMHnrc"
      },
      "execution_count": 51,
      "outputs": []
    },
    {
      "cell_type": "code",
      "source": [
        "#Usando un ColumnTransformer para emparejar la transformación al tipo de columna\n",
        "num_tuple = (scaler, num_selector)\n",
        "cat_tuple = (ohe, cat_selector)"
      ],
      "metadata": {
        "id": "DmWI2ZzZOVWh"
      },
      "execution_count": 53,
      "outputs": []
    },
    {
      "cell_type": "code",
      "source": [
        "#Transformar los datos y mostrar los arrays de NumPy resultantes\n",
        "col_transformer = make_column_transformer(num_tuple, cat_tuple, remainder = 'passthrough')\n",
        "col_transformer.fit(X_train)\n"
      ],
      "metadata": {
        "colab": {
          "base_uri": "https://localhost:8080/"
        },
        "id": "iHoL00w2OmNP",
        "outputId": "35c91628-8979-42f7-b8bf-35fa00d672ff"
      },
      "execution_count": 54,
      "outputs": [
        {
          "output_type": "execute_result",
          "data": {
            "text/plain": [
              "ColumnTransformer(remainder='passthrough',\n",
              "                  transformers=[('standardscaler', StandardScaler(),\n",
              "                                 <sklearn.compose._column_transformer.make_column_selector object at 0x7fa235cf4890>),\n",
              "                                ('onehotencoder',\n",
              "                                 OneHotEncoder(handle_unknown='ignore'),\n",
              "                                 <sklearn.compose._column_transformer.make_column_selector object at 0x7fa235cf48d0>)])"
            ]
          },
          "metadata": {},
          "execution_count": 54
        }
      ]
    },
    {
      "cell_type": "code",
      "source": [
        "X_train_processed = col_transformer.transform(X_train)\n",
        "X_test_processed = col_transformer.transform(X_test)"
      ],
      "metadata": {
        "id": "RbnaT2B_O-PO"
      },
      "execution_count": 55,
      "outputs": []
    },
    {
      "cell_type": "code",
      "source": [
        "X_train_df = pd.DataFrame(X_train_processed)\n",
        "X_train_df.head()"
      ],
      "metadata": {
        "colab": {
          "base_uri": "https://localhost:8080/",
          "height": 206
        },
        "id": "cZWIyp19PE9O",
        "outputId": "6eea619b-9496-426e-f127-0a2233e19b7c"
      },
      "execution_count": 56,
      "outputs": [
        {
          "output_type": "execute_result",
          "data": {
            "text/plain": [
              "          0         1         2         3         4         5         6  \\\n",
              "0  0.060741  0.749291  0.464226 -0.118869  0.457447  0.499098  0.743973   \n",
              "1  0.060741 -0.090254 -0.144654 -0.001647 -0.301655 -0.364269 -0.514040   \n",
              "2 -1.150979  1.127086  1.225326  0.818910  1.523852  1.692114  1.544526   \n",
              "3 -1.150979 -0.593980 -0.449095 -1.056649 -0.651696 -0.617673 -0.738195   \n",
              "4 -1.150979 -0.258163 -0.093914  0.350020 -0.052352 -0.572823 -0.605532   \n",
              "\n",
              "          7  \n",
              "0  0.241135  \n",
              "1 -0.145838  \n",
              "2  1.179902  \n",
              "3 -0.647469  \n",
              "4  0.785763  "
            ],
            "text/html": [
              "\n",
              "  <div id=\"df-2f338ddc-3196-4447-8413-045a6feb29e9\">\n",
              "    <div class=\"colab-df-container\">\n",
              "      <div>\n",
              "<style scoped>\n",
              "    .dataframe tbody tr th:only-of-type {\n",
              "        vertical-align: middle;\n",
              "    }\n",
              "\n",
              "    .dataframe tbody tr th {\n",
              "        vertical-align: top;\n",
              "    }\n",
              "\n",
              "    .dataframe thead th {\n",
              "        text-align: right;\n",
              "    }\n",
              "</style>\n",
              "<table border=\"1\" class=\"dataframe\">\n",
              "  <thead>\n",
              "    <tr style=\"text-align: right;\">\n",
              "      <th></th>\n",
              "      <th>0</th>\n",
              "      <th>1</th>\n",
              "      <th>2</th>\n",
              "      <th>3</th>\n",
              "      <th>4</th>\n",
              "      <th>5</th>\n",
              "      <th>6</th>\n",
              "      <th>7</th>\n",
              "    </tr>\n",
              "  </thead>\n",
              "  <tbody>\n",
              "    <tr>\n",
              "      <th>0</th>\n",
              "      <td>0.060741</td>\n",
              "      <td>0.749291</td>\n",
              "      <td>0.464226</td>\n",
              "      <td>-0.118869</td>\n",
              "      <td>0.457447</td>\n",
              "      <td>0.499098</td>\n",
              "      <td>0.743973</td>\n",
              "      <td>0.241135</td>\n",
              "    </tr>\n",
              "    <tr>\n",
              "      <th>1</th>\n",
              "      <td>0.060741</td>\n",
              "      <td>-0.090254</td>\n",
              "      <td>-0.144654</td>\n",
              "      <td>-0.001647</td>\n",
              "      <td>-0.301655</td>\n",
              "      <td>-0.364269</td>\n",
              "      <td>-0.514040</td>\n",
              "      <td>-0.145838</td>\n",
              "    </tr>\n",
              "    <tr>\n",
              "      <th>2</th>\n",
              "      <td>-1.150979</td>\n",
              "      <td>1.127086</td>\n",
              "      <td>1.225326</td>\n",
              "      <td>0.818910</td>\n",
              "      <td>1.523852</td>\n",
              "      <td>1.692114</td>\n",
              "      <td>1.544526</td>\n",
              "      <td>1.179902</td>\n",
              "    </tr>\n",
              "    <tr>\n",
              "      <th>3</th>\n",
              "      <td>-1.150979</td>\n",
              "      <td>-0.593980</td>\n",
              "      <td>-0.449095</td>\n",
              "      <td>-1.056649</td>\n",
              "      <td>-0.651696</td>\n",
              "      <td>-0.617673</td>\n",
              "      <td>-0.738195</td>\n",
              "      <td>-0.647469</td>\n",
              "    </tr>\n",
              "    <tr>\n",
              "      <th>4</th>\n",
              "      <td>-1.150979</td>\n",
              "      <td>-0.258163</td>\n",
              "      <td>-0.093914</td>\n",
              "      <td>0.350020</td>\n",
              "      <td>-0.052352</td>\n",
              "      <td>-0.572823</td>\n",
              "      <td>-0.605532</td>\n",
              "      <td>0.785763</td>\n",
              "    </tr>\n",
              "  </tbody>\n",
              "</table>\n",
              "</div>\n",
              "      <button class=\"colab-df-convert\" onclick=\"convertToInteractive('df-2f338ddc-3196-4447-8413-045a6feb29e9')\"\n",
              "              title=\"Convert this dataframe to an interactive table.\"\n",
              "              style=\"display:none;\">\n",
              "        \n",
              "  <svg xmlns=\"http://www.w3.org/2000/svg\" height=\"24px\"viewBox=\"0 0 24 24\"\n",
              "       width=\"24px\">\n",
              "    <path d=\"M0 0h24v24H0V0z\" fill=\"none\"/>\n",
              "    <path d=\"M18.56 5.44l.94 2.06.94-2.06 2.06-.94-2.06-.94-.94-2.06-.94 2.06-2.06.94zm-11 1L8.5 8.5l.94-2.06 2.06-.94-2.06-.94L8.5 2.5l-.94 2.06-2.06.94zm10 10l.94 2.06.94-2.06 2.06-.94-2.06-.94-.94-2.06-.94 2.06-2.06.94z\"/><path d=\"M17.41 7.96l-1.37-1.37c-.4-.4-.92-.59-1.43-.59-.52 0-1.04.2-1.43.59L10.3 9.45l-7.72 7.72c-.78.78-.78 2.05 0 2.83L4 21.41c.39.39.9.59 1.41.59.51 0 1.02-.2 1.41-.59l7.78-7.78 2.81-2.81c.8-.78.8-2.07 0-2.86zM5.41 20L4 18.59l7.72-7.72 1.47 1.35L5.41 20z\"/>\n",
              "  </svg>\n",
              "      </button>\n",
              "      \n",
              "  <style>\n",
              "    .colab-df-container {\n",
              "      display:flex;\n",
              "      flex-wrap:wrap;\n",
              "      gap: 12px;\n",
              "    }\n",
              "\n",
              "    .colab-df-convert {\n",
              "      background-color: #E8F0FE;\n",
              "      border: none;\n",
              "      border-radius: 50%;\n",
              "      cursor: pointer;\n",
              "      display: none;\n",
              "      fill: #1967D2;\n",
              "      height: 32px;\n",
              "      padding: 0 0 0 0;\n",
              "      width: 32px;\n",
              "    }\n",
              "\n",
              "    .colab-df-convert:hover {\n",
              "      background-color: #E2EBFA;\n",
              "      box-shadow: 0px 1px 2px rgba(60, 64, 67, 0.3), 0px 1px 3px 1px rgba(60, 64, 67, 0.15);\n",
              "      fill: #174EA6;\n",
              "    }\n",
              "\n",
              "    [theme=dark] .colab-df-convert {\n",
              "      background-color: #3B4455;\n",
              "      fill: #D2E3FC;\n",
              "    }\n",
              "\n",
              "    [theme=dark] .colab-df-convert:hover {\n",
              "      background-color: #434B5C;\n",
              "      box-shadow: 0px 1px 3px 1px rgba(0, 0, 0, 0.15);\n",
              "      filter: drop-shadow(0px 1px 2px rgba(0, 0, 0, 0.3));\n",
              "      fill: #FFFFFF;\n",
              "    }\n",
              "  </style>\n",
              "\n",
              "      <script>\n",
              "        const buttonEl =\n",
              "          document.querySelector('#df-2f338ddc-3196-4447-8413-045a6feb29e9 button.colab-df-convert');\n",
              "        buttonEl.style.display =\n",
              "          google.colab.kernel.accessAllowed ? 'block' : 'none';\n",
              "\n",
              "        async function convertToInteractive(key) {\n",
              "          const element = document.querySelector('#df-2f338ddc-3196-4447-8413-045a6feb29e9');\n",
              "          const dataTable =\n",
              "            await google.colab.kernel.invokeFunction('convertToInteractive',\n",
              "                                                     [key], {});\n",
              "          if (!dataTable) return;\n",
              "\n",
              "          const docLinkHtml = 'Like what you see? Visit the ' +\n",
              "            '<a target=\"_blank\" href=https://colab.research.google.com/notebooks/data_table.ipynb>data table notebook</a>'\n",
              "            + ' to learn more about interactive tables.';\n",
              "          element.innerHTML = '';\n",
              "          dataTable['output_type'] = 'display_data';\n",
              "          await google.colab.output.renderOutput(dataTable, element);\n",
              "          const docLink = document.createElement('div');\n",
              "          docLink.innerHTML = docLinkHtml;\n",
              "          element.appendChild(docLink);\n",
              "        }\n",
              "      </script>\n",
              "    </div>\n",
              "  </div>\n",
              "  "
            ]
          },
          "metadata": {},
          "execution_count": 56
        }
      ]
    },
    {
      "cell_type": "code",
      "source": [
        "X_train_df.info()"
      ],
      "metadata": {
        "colab": {
          "base_uri": "https://localhost:8080/"
        },
        "id": "uGBDis3hPioF",
        "outputId": "cb1b041e-78c1-4650-ac1e-d077ef4360c4"
      },
      "execution_count": 57,
      "outputs": [
        {
          "output_type": "stream",
          "name": "stdout",
          "text": [
            "<class 'pandas.core.frame.DataFrame'>\n",
            "RangeIndex: 3132 entries, 0 to 3131\n",
            "Data columns (total 8 columns):\n",
            " #   Column  Non-Null Count  Dtype  \n",
            "---  ------  --------------  -----  \n",
            " 0   0       3132 non-null   float64\n",
            " 1   1       3132 non-null   float64\n",
            " 2   2       3132 non-null   float64\n",
            " 3   3       3132 non-null   float64\n",
            " 4   4       3132 non-null   float64\n",
            " 5   5       3132 non-null   float64\n",
            " 6   6       3132 non-null   float64\n",
            " 7   7       3132 non-null   float64\n",
            "dtypes: float64(8)\n",
            "memory usage: 195.9 KB\n"
          ]
        }
      ]
    }
  ]
}